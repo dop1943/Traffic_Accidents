{
 "cells": [
  {
   "cell_type": "markdown",
   "metadata": {},
   "source": [
    "**Parhelion Group**"
   ]
  },
  {
   "cell_type": "markdown",
   "metadata": {},
   "source": [
    "# Analyse prédictive des sinistres automobiles corporels"
   ]
  },
  {
   "cell_type": "markdown",
   "metadata": {},
   "source": [
    "# Comréhension métien"
   ]
  },
  {
   "attachments": {},
   "cell_type": "markdown",
   "metadata": {},
   "source": [
    "En 2017, 3 448 personnes ont perdu la vie dans un accident de la route en France métropolitaine. Avec 29 décès de moins, la mortalité routière est en légère baisse (-0,8%) par rapport à 2016, après deux années d’augmentation, en 2014 (+3,5%) et en 2015 (+2,3%) et une stabilisation en 2016 (+0,46%).</Br>  \n",
    "Les autres indicateurs de l’accidentalité sont en légère hausse : le nombre de personnes blessées sur les routes augmente de +1,0%, soit au total 73 384 personnes blessées dans les 58 613 accidents corporels (+1,9%). 27 732 de ces personnes ont dû être hospitalisées (+2,0% par rapport à 2016) parmi lesquelles une sur dix gardera des séquelles lourdes.  \n",
    "Mais on doit se poser les questions suivantes : Dans quels cas on a des accidents graves ? Les accidents graves sont faits par les femmes ou les hommes ? Quels sont leurs âges, leurs catégories ?</br>  \n",
    "\n",
    "Si un accident auto est déclaré, et le gestionnaire a besoin d’estimer la gravité de l’accident. A-t-il besoin ainsi d’un algorithme pour lui aider.</br>   \n",
    "\n",
    "En effet,pour attribuer un tarif à ses clients , une assurance a besoin d'estimer le nombre d'accidents qu'il pourrait y avoir lieu en prenant en compte plusieurs criteres :</br>  \n",
    "\n",
    "+La durée d’un contrat d’assurance automobile est généralement d’un an, renouvelable par tacite reconduction ==> on peut donc avoir recours à une une alalyse des données sur une année par commune ou departement</br>  \n",
    "\n",
    "+le type de vehicule est un facteur à prendre en consideration : on peut diviser nos données en tranches d'age</br>  \n",
    "\n",
    "+age du conducteur</br>  \n",
    "\n",
    "+utilisation du vehicule </br>  \n",
    "\n",
    "+dispositif de securité</br>  \n",
    "\n",
    "+type du vehicule</br>  \n",
    "\n",
    "+sexe de l'utilisateur</br>  \n",
    "\n",
    "+lieu de residence (Pour cela on va se baser sur la commune où reside le conducteur)</br>  \n",
    "\n",
    "+heures d'utilisation du véhicule les plus fréquente (aube , matin , soir )</br>  \n",
    "\n",
    "</br>\n",
    "**Objectif Metier**</br>  \n",
    "\n",
    "Indice sur lesquels on va travailler :</br>  \n",
    "\n",
    "\n",
    "_Probabilité d'avoir un accident pour une année choisie en prenant en consideration tout les criteres mentionnés ci-dessus.</br>  \n",
    "\n",
    "_Probabilité d'avoir un accident grave (avec mort)</br>\n",
    "\n",
    " \n",
    "_Gravité des accidents</br>  \n",
    "\n",
    "\n",
    "Pour estimer la valeur des dégats en cas d'accident , et en prenant compte des critére mentionnés ci dessus on peut par exemple calculer la probabilité que le choc initial soit :</br>  \n",
    "\n",
    "_à l'arriere _à l'avant _sur les cotés ou multiple</br>  \n",
    "\n",
    "\n",
    "Pour savoir le nombre d'ambulancier qu'un hôpital doit mobiliser on pourrait s'amuser à calculer le nombre d'accident qui peuvent avoir lieu durant la nuit / jour </br>  \n",
    "On va aussi travailler sur la segmentation des zones géographiques  \n",
    "\n",
    "_Segmentation les zones géographiques  \n",
    "\n",
    "_Profils des communes en fonction des conditions environnementales\n"
   ]
  },
  {
   "cell_type": "code",
   "execution_count": 1,
   "metadata": {},
   "outputs": [],
   "source": [
    "import numpy as np\n",
    "import pandas as pd\n",
    "from scipy import stats"
   ]
  },
  {
   "cell_type": "code",
   "execution_count": 2,
   "metadata": {},
   "outputs": [
    {
     "name": "stderr",
     "output_type": "stream",
     "text": [
      "C:\\Users\\Njeimi Amal\\Anaconda3\\lib\\site-packages\\IPython\\core\\interactiveshell.py:2785: DtypeWarning: Columns (2) have mixed types. Specify dtype option on import or set low_memory=False.\n",
      "  interactivity=interactivity, compiler=compiler, result=result)\n"
     ]
    }
   ],
   "source": [
    "lieux=pd.DataFrame()\n",
    "for i in range(2005,2017):\n",
    "    l=pd.io.parsers.read_csv(r\"lieux-\"+str(i)+\".csv\")\n",
    "    l[\"Annee\"]=i\n",
    "    lieux=pd.concat([lieux,l])"
   ]
  },
  {
   "cell_type": "code",
   "execution_count": 3,
   "metadata": {},
   "outputs": [],
   "source": [
    "vehicules = pd.io.parsers.read_csv(r\"vehicules-2017.csv\",sep=\",\");\n",
    "caract = pd.io.parsers.read_csv(r\"caracteristiques-2017.csv\",sep=\",\",encoding=\"latin1\");\n",
    "lieux = pd.io.parsers.read_csv(r\"lieux-2017.csv\",sep=\",\",low_memory=False);\n",
    "usagers =pd.io.parsers.read_csv(r\"usagers-2017.csv\",sep=\",\");\n",
    "#for i in range(2005,2016):\n",
    "#    vehicules = vehicules+ pd.io.parsers.read_csv(r\"vehicules-\"+str(i)+\".csv\",sep=\",\");\n",
    "#    if(i!=2009):\n",
    " #      caract =caract+ pd.io.parsers.read_csv(r\"caracteristiques-\"+str(i)+\".csv\",encoding = \"ISO-8859-1\",sep=\",\");\n",
    "  #  else:\n",
    "  #      caract =caract+ pd.io.parsers.read_csv(r\"caracteristiques-\"+str(i)+\".csv\",encoding = \"ISO-8859-1\",sep=\"\\t\");\n",
    "   # usagers = usagers+pd.io.parsers.read_csv(r\"usagers-\"+str(i)+\".csv\",sep=\",\");"
   ]
  },
  {
   "cell_type": "code",
   "execution_count": 4,
   "metadata": {},
   "outputs": [
    {
     "data": {
      "text/plain": [
       "(136021, 51)"
      ]
     },
     "execution_count": 4,
     "metadata": {},
     "output_type": "execute_result"
    }
   ],
   "source": [
    "#joindre les données dans une seule table , clé de jointure : Numéro de l'accident\n",
    "df= pd.merge(left=vehicules,right=caract,on=\"Num_Acc\")\n",
    "df= pd.merge(left=df,right=lieux,on=\"Num_Acc\")\n",
    "df= pd.merge(left=df,right=usagers,on=[\"Num_Acc\",\"num_veh\"])\n",
    "df.shape"
   ]
  },
  {
   "cell_type": "markdown",
   "metadata": {},
   "source": [
    "# Visualisation des données"
   ]
  },
  {
   "cell_type": "markdown",
   "metadata": {},
   "source": [
    "Ces dataViz sont réalisés par tableau"
   ]
  },
  {
   "cell_type": "markdown",
   "metadata": {},
   "source": [
    "### Gravité des accidents"
   ]
  },
  {
   "cell_type": "markdown",
   "metadata": {},
   "source": [
    "Comparer les niveaux de gravité des accidents et le nombre des accidents en fonction de quelques paramètres"
   ]
  },
  {
   "cell_type": "markdown",
   "metadata": {},
   "source": [
    "##### 1.Sexe"
   ]
  },
  {
   "cell_type": "markdown",
   "metadata": {},
   "source": [
    "L’idée est d’avoir une comparaison visuelle entre le nombre des accidents réalisés par les femmes et les hommes en tenant compte de la gravité"
   ]
  },
  {
   "attachments": {
    "gravit%C3%A9+sexe.PNG": {
     "image/png": "[encoded data removed]"
    }
   },
   "cell_type": "markdown",
   "metadata": {},
   "source": [
    "![gravit%C3%A9+sexe.PNG](attachment:gravit%C3%A9+sexe.PNG)"
   ]
  },
  {
   "cell_type": "markdown",
   "metadata": {},
   "source": [
    "**Conclusion: ** On peut voir que le nombre des accidents mortels est très faible pour les femmes ainsi que les hommes par rapport aux autres gravités.</br>\n",
    "On peut voir également que le grand nombre des accidents correspond au gravité \"indemne\" mais pour les femmes la gravité fréquente est Blessé Leger"
   ]
  },
  {
   "cell_type": "markdown",
   "metadata": {},
   "source": [
    "#### 2.Catégorie d’usagers"
   ]
  },
  {
   "cell_type": "markdown",
   "metadata": {},
   "source": [
    "On veut voir le nombre d'accident en prenant en compte la catégorie des usagers, le sexe et la gravité"
   ]
  },
  {
   "attachments": {
    "gravit%C3%A9+sexe+cat%C3%A9gorieUsager.PNG": {
     "image/png": "[encoded data removed]"
    }
   },
   "cell_type": "markdown",
   "metadata": {},
   "source": [
    "![gravit%C3%A9+sexe+cat%C3%A9gorieUsager.PNG](attachment:gravit%C3%A9+sexe+cat%C3%A9gorieUsager.PNG)"
   ]
  },
  {
   "cell_type": "markdown",
   "metadata": {},
   "source": [
    "**Conclusion** On remarque que la modalitée la plus fréquente en nombre des accidents est conducteur pour les hommes et les femmes sachant tout les gravités."
   ]
  },
  {
   "cell_type": "markdown",
   "metadata": {},
   "source": [
    "#### 3. Ages"
   ]
  },
  {
   "cell_type": "markdown",
   "metadata": {},
   "source": [
    "On va voir la gravité des accidents en fonction de l’âge et le nombre des accidents"
   ]
  },
  {
   "attachments": {
    "gravit%C3%A9+age%201.PNG": {
     "image/png": "[encoded data removed]"
    }
   },
   "cell_type": "markdown",
   "metadata": {},
   "source": [
    "![gravit%C3%A9+age%201.PNG](attachment:gravit%C3%A9+age%201.PNG)"
   ]
  },
  {
   "attachments": {
    "gravit%C3%A9+age%202.PNG": {
     "image/png": "[encoded data removed]"
    }
   },
   "cell_type": "markdown",
   "metadata": {},
   "source": [
    "![gravit%C3%A9+age%202.PNG](attachment:gravit%C3%A9+age%202.PNG)"
   ]
  },
  {
   "attachments": {
    "gravit%C3%A9+age%203.PNG": {
     "image/png": "[encoded data removed]"
    }
   },
   "cell_type": "markdown",
   "metadata": {},
   "source": [
    "![gravit%C3%A9+age%203.PNG](attachment:gravit%C3%A9+age%203.PNG)"
   ]
  },
  {
   "attachments": {
    "gravit%C3%A9+age%204.PNG": {
     "image/png": "[encoded data removed]"
    }
   },
   "cell_type": "markdown",
   "metadata": {},
   "source": [
    "![gravit%C3%A9+age%204.PNG](attachment:gravit%C3%A9+age%204.PNG)"
   ]
  },
  {
   "cell_type": "markdown",
   "metadata": {},
   "source": [
    "**Conclusion** En voyant toutes les gravités on remarque que le nombre d'accidents est élevé chez les personnes entres 19 et 24"
   ]
  },
  {
   "cell_type": "markdown",
   "metadata": {},
   "source": [
    "# Préparation des données"
   ]
  },
  {
   "cell_type": "code",
   "execution_count": 5,
   "metadata": {},
   "outputs": [
    {
     "data": {
      "text/plain": [
       "(100534, 51)"
      ]
     },
     "execution_count": 5,
     "metadata": {},
     "output_type": "execute_result"
    }
   ],
   "source": [
    "#ne garder que les données qui concernent le conducteur\n",
    "df=df.loc[df.catu==1,]\n",
    "df.shape"
   ]
  },
  {
   "cell_type": "code",
   "execution_count": 6,
   "metadata": {},
   "outputs": [
    {
     "data": {
      "text/plain": [
       "0    13.0\n",
       "2    13.0\n",
       "3    11.0\n",
       "4    22.0\n",
       "5    11.0\n",
       "Name: secu, dtype: float64"
      ]
     },
     "execution_count": 6,
     "metadata": {},
     "output_type": "execute_result"
    }
   ],
   "source": [
    "df.secu.head()"
   ]
  },
  {
   "cell_type": "code",
   "execution_count": 7,
   "metadata": {},
   "outputs": [
    {
     "data": {
      "text/plain": [
       "Index(['Num_Acc', 'senc', 'catv', 'occutc', 'obs', 'obsm', 'choc', 'manv',\n",
       "       'num_veh', 'an', 'mois', 'jour', 'hrmn', 'lum', 'agg', 'int', 'atm',\n",
       "       'col', 'com', 'adr', 'gps', 'lat', 'long', 'dep', 'catr', 'voie', 'v1',\n",
       "       'v2', 'circ', 'nbv', 'pr', 'pr1', 'vosp', 'prof', 'plan', 'lartpc',\n",
       "       'larrout', 'surf', 'infra', 'situ', 'env1', 'place', 'catu', 'grav',\n",
       "       'sexe', 'trajet', 'secu', 'locp', 'actp', 'etatp', 'an_nais'],\n",
       "      dtype='object')"
      ]
     },
     "execution_count": 7,
     "metadata": {},
     "output_type": "execute_result"
    }
   ],
   "source": [
    "df.columns"
   ]
  },
  {
   "cell_type": "code",
   "execution_count": 8,
   "metadata": {},
   "outputs": [
    {
     "data": {
      "text/plain": [
       "Num_Acc        0\n",
       "senc          49\n",
       "catv           0\n",
       "occutc         0\n",
       "obs           37\n",
       "obsm          26\n",
       "choc          16\n",
       "manv          13\n",
       "num_veh        0\n",
       "an             0\n",
       "mois           0\n",
       "jour           0\n",
       "hrmn           0\n",
       "lum            0\n",
       "agg            0\n",
       "int            0\n",
       "atm           17\n",
       "col           10\n",
       "com            0\n",
       "adr         1360\n",
       "gps         7535\n",
       "lat        13295\n",
       "long       13295\n",
       "dep            0\n",
       "catr           0\n",
       "voie       15323\n",
       "v1         99891\n",
       "v2         95914\n",
       "circ         631\n",
       "nbv          742\n",
       "pr         54185\n",
       "pr1        54576\n",
       "vosp        1050\n",
       "prof         781\n",
       "plan        1461\n",
       "lartpc      3624\n",
       "larrout     3402\n",
       "surf         810\n",
       "infra       6537\n",
       "situ        6207\n",
       "env1        6621\n",
       "place          0\n",
       "catu           0\n",
       "grav           0\n",
       "sexe           0\n",
       "trajet         4\n",
       "secu          27\n",
       "locp          29\n",
       "actp          30\n",
       "etatp         48\n",
       "an_nais       23\n",
       "dtype: int64"
      ]
     },
     "execution_count": 8,
     "metadata": {},
     "output_type": "execute_result"
    }
   ],
   "source": [
    "#voir si nos données contiennent des NA\n",
    "df.isna().sum()"
   ]
  },
  {
   "cell_type": "code",
   "execution_count": 9,
   "metadata": {},
   "outputs": [
    {
     "data": {
      "text/html": [
       "<div>\n",
       "<style scoped>\n",
       "    .dataframe tbody tr th:only-of-type {\n",
       "        vertical-align: middle;\n",
       "    }\n",
       "\n",
       "    .dataframe tbody tr th {\n",
       "        vertical-align: top;\n",
       "    }\n",
       "\n",
       "    .dataframe thead th {\n",
       "        text-align: right;\n",
       "    }\n",
       "</style>\n",
       "<table border=\"1\" class=\"dataframe\">\n",
       "  <thead>\n",
       "    <tr style=\"text-align: right;\">\n",
       "      <th></th>\n",
       "      <th>Num_Acc</th>\n",
       "      <th>senc</th>\n",
       "      <th>catv</th>\n",
       "      <th>occutc</th>\n",
       "      <th>obs</th>\n",
       "      <th>obsm</th>\n",
       "      <th>choc</th>\n",
       "      <th>manv</th>\n",
       "      <th>an</th>\n",
       "      <th>mois</th>\n",
       "      <th>...</th>\n",
       "      <th>place</th>\n",
       "      <th>catu</th>\n",
       "      <th>grav</th>\n",
       "      <th>sexe</th>\n",
       "      <th>trajet</th>\n",
       "      <th>secu</th>\n",
       "      <th>locp</th>\n",
       "      <th>actp</th>\n",
       "      <th>etatp</th>\n",
       "      <th>an_nais</th>\n",
       "    </tr>\n",
       "  </thead>\n",
       "  <tbody>\n",
       "    <tr>\n",
       "      <th>0</th>\n",
       "      <td>201700000001</td>\n",
       "      <td>0.0</td>\n",
       "      <td>7</td>\n",
       "      <td>0</td>\n",
       "      <td>0.0</td>\n",
       "      <td>2.0</td>\n",
       "      <td>3.0</td>\n",
       "      <td>9.0</td>\n",
       "      <td>17</td>\n",
       "      <td>1</td>\n",
       "      <td>...</td>\n",
       "      <td>1.0</td>\n",
       "      <td>1</td>\n",
       "      <td>3</td>\n",
       "      <td>1</td>\n",
       "      <td>9.0</td>\n",
       "      <td>13.0</td>\n",
       "      <td>0.0</td>\n",
       "      <td>0.0</td>\n",
       "      <td>0.0</td>\n",
       "      <td>1968.0</td>\n",
       "    </tr>\n",
       "    <tr>\n",
       "      <th>2</th>\n",
       "      <td>201700000001</td>\n",
       "      <td>0.0</td>\n",
       "      <td>10</td>\n",
       "      <td>0</td>\n",
       "      <td>0.0</td>\n",
       "      <td>2.0</td>\n",
       "      <td>3.0</td>\n",
       "      <td>13.0</td>\n",
       "      <td>17</td>\n",
       "      <td>1</td>\n",
       "      <td>...</td>\n",
       "      <td>1.0</td>\n",
       "      <td>1</td>\n",
       "      <td>3</td>\n",
       "      <td>1</td>\n",
       "      <td>1.0</td>\n",
       "      <td>13.0</td>\n",
       "      <td>0.0</td>\n",
       "      <td>0.0</td>\n",
       "      <td>0.0</td>\n",
       "      <td>1967.0</td>\n",
       "    </tr>\n",
       "    <tr>\n",
       "      <th>3</th>\n",
       "      <td>201700000002</td>\n",
       "      <td>0.0</td>\n",
       "      <td>7</td>\n",
       "      <td>0</td>\n",
       "      <td>0.0</td>\n",
       "      <td>0.0</td>\n",
       "      <td>1.0</td>\n",
       "      <td>16.0</td>\n",
       "      <td>17</td>\n",
       "      <td>2</td>\n",
       "      <td>...</td>\n",
       "      <td>1.0</td>\n",
       "      <td>1</td>\n",
       "      <td>1</td>\n",
       "      <td>1</td>\n",
       "      <td>0.0</td>\n",
       "      <td>11.0</td>\n",
       "      <td>0.0</td>\n",
       "      <td>0.0</td>\n",
       "      <td>0.0</td>\n",
       "      <td>1953.0</td>\n",
       "    </tr>\n",
       "    <tr>\n",
       "      <th>4</th>\n",
       "      <td>201700000002</td>\n",
       "      <td>0.0</td>\n",
       "      <td>1</td>\n",
       "      <td>0</td>\n",
       "      <td>0.0</td>\n",
       "      <td>0.0</td>\n",
       "      <td>7.0</td>\n",
       "      <td>1.0</td>\n",
       "      <td>17</td>\n",
       "      <td>2</td>\n",
       "      <td>...</td>\n",
       "      <td>1.0</td>\n",
       "      <td>1</td>\n",
       "      <td>3</td>\n",
       "      <td>1</td>\n",
       "      <td>5.0</td>\n",
       "      <td>22.0</td>\n",
       "      <td>0.0</td>\n",
       "      <td>0.0</td>\n",
       "      <td>0.0</td>\n",
       "      <td>1960.0</td>\n",
       "    </tr>\n",
       "    <tr>\n",
       "      <th>5</th>\n",
       "      <td>201700000003</td>\n",
       "      <td>0.0</td>\n",
       "      <td>10</td>\n",
       "      <td>0</td>\n",
       "      <td>0.0</td>\n",
       "      <td>2.0</td>\n",
       "      <td>1.0</td>\n",
       "      <td>1.0</td>\n",
       "      <td>17</td>\n",
       "      <td>3</td>\n",
       "      <td>...</td>\n",
       "      <td>1.0</td>\n",
       "      <td>1</td>\n",
       "      <td>1</td>\n",
       "      <td>1</td>\n",
       "      <td>1.0</td>\n",
       "      <td>11.0</td>\n",
       "      <td>0.0</td>\n",
       "      <td>0.0</td>\n",
       "      <td>0.0</td>\n",
       "      <td>1973.0</td>\n",
       "    </tr>\n",
       "  </tbody>\n",
       "</table>\n",
       "<p>5 rows × 46 columns</p>\n",
       "</div>"
      ],
      "text/plain": [
       "        Num_Acc  senc  catv  occutc  obs  obsm  choc  manv  an  mois   ...    \\\n",
       "0  201700000001   0.0     7       0  0.0   2.0   3.0   9.0  17     1   ...     \n",
       "2  201700000001   0.0    10       0  0.0   2.0   3.0  13.0  17     1   ...     \n",
       "3  201700000002   0.0     7       0  0.0   0.0   1.0  16.0  17     2   ...     \n",
       "4  201700000002   0.0     1       0  0.0   0.0   7.0   1.0  17     2   ...     \n",
       "5  201700000003   0.0    10       0  0.0   2.0   1.0   1.0  17     3   ...     \n",
       "\n",
       "   place  catu  grav  sexe  trajet  secu  locp  actp etatp an_nais  \n",
       "0    1.0     1     3     1     9.0  13.0   0.0   0.0   0.0  1968.0  \n",
       "2    1.0     1     3     1     1.0  13.0   0.0   0.0   0.0  1967.0  \n",
       "3    1.0     1     1     1     0.0  11.0   0.0   0.0   0.0  1953.0  \n",
       "4    1.0     1     3     1     5.0  22.0   0.0   0.0   0.0  1960.0  \n",
       "5    1.0     1     1     1     1.0  11.0   0.0   0.0   0.0  1973.0  \n",
       "\n",
       "[5 rows x 46 columns]"
      ]
     },
     "execution_count": 9,
     "metadata": {},
     "output_type": "execute_result"
    }
   ],
   "source": [
    "#v1,v2,pr,pr1 ont + >50% de valeurs manquantes on va les négliger\n",
    "df.drop(columns=[\"num_veh\",\"v1\",\"v2\",\"pr\",\"pr1\"],inplace=True)\n",
    "df.head()"
   ]
  },
  {
   "cell_type": "code",
   "execution_count": 10,
   "metadata": {},
   "outputs": [],
   "source": [
    "#on remplace les autres na par les valeurs du mode de chaque variable\n",
    "\n",
    "df['senc'].fillna(df.senc.mode()[0],inplace=True)\n",
    "df['obs'].fillna(df.obs.mode()[0],inplace=True)\n",
    "df['obsm'].fillna(df.obsm.mode()[0],inplace=True)\n",
    "df['choc'].fillna(df.choc.mode()[0],inplace=True)\n",
    "df['manv'].fillna(df.manv.mode()[0],inplace=True)\n",
    "df['atm'].fillna(df.atm.mode()[0],inplace=True)\n",
    "df['col'].fillna(df.col.mode()[0],inplace=True)\n",
    "df['adr'].fillna(df.adr.mode()[0],inplace=True)\n",
    "df['gps'].fillna(df.gps.mode()[0],inplace=True)\n",
    "df['lat'].fillna(df.lat.mode()[0],inplace=True)\n",
    "df['long'].fillna(df.long.mode()[0],inplace=True)\n",
    "df['voie'].fillna(df.voie.mode()[0],inplace=True)\n",
    "df['circ'].fillna(df.circ.mode()[0],inplace=True)\n",
    "df['nbv'].fillna(df.nbv.mode()[0],inplace=True)\n",
    "df['vosp'].fillna(df.vosp.mode()[0],inplace=True)\n",
    "df['prof'].fillna(df.prof.mode()[0],inplace=True)\n",
    "df['plan'].fillna(df.plan.mode()[0],inplace=True)\n",
    "df['lartpc'].fillna(df.lartpc.mode()[0],inplace=True)\n",
    "df['larrout'].fillna(df.larrout.mode()[0],inplace=True)\n",
    "df['surf'].fillna(df.surf.mode()[0],inplace=True)\n",
    "df['infra'].fillna(df.infra.mode()[0],inplace=True)\n",
    "df['situ'].fillna(df.situ.mode()[0],inplace=True)\n",
    "df['env1'].fillna(df.env1.mode()[0],inplace=True)\n",
    "df['trajet'].fillna(df.trajet.mode()[0],inplace=True)\n",
    "df['secu'].fillna(df.secu.mode()[0],inplace=True)\n",
    "df['locp'].fillna(df.locp.mode()[0],inplace=True)\n",
    "df['actp'].fillna(df.actp.mode()[0],inplace=True)\n",
    "df['etatp'].fillna(df.etatp.mode()[0],inplace=True)\n",
    "df['an_nais'].fillna(df.an_nais.mode()[0],inplace=True)"
   ]
  },
  {
   "cell_type": "code",
   "execution_count": 11,
   "metadata": {},
   "outputs": [],
   "source": [
    "#d'aprés la description des données , on peut voir que les départements sont suivis par un zero , on doit supprimer ce zero\n",
    "df['dep']=df['dep']/10"
   ]
  },
  {
   "cell_type": "code",
   "execution_count": 12,
   "metadata": {},
   "outputs": [],
   "source": [
    "#remplaceer l'année de naissance par l'age du conducteur\n",
    "df.an_nais=df.an+2000-df.an_nais"
   ]
  },
  {
   "cell_type": "code",
   "execution_count": 13,
   "metadata": {},
   "outputs": [
    {
     "data": {
      "text/plain": [
       "2.0        1\n",
       "3.0        1\n",
       "5.0       10\n",
       "6.0       11\n",
       "7.0       14\n",
       "8.0       21\n",
       "9.0       27\n",
       "10.0      30\n",
       "11.0      62\n",
       "12.0      56\n",
       "13.0      96\n",
       "14.0     235\n",
       "15.0     556\n",
       "16.0     807\n",
       "17.0    1133\n",
       "18.0    1437\n",
       "Name: an_nais, dtype: int64"
      ]
     },
     "execution_count": 13,
     "metadata": {},
     "output_type": "execute_result"
    }
   ],
   "source": [
    "df.loc[df.an_nais<=18,\"an_nais\"].value_counts().sort_index()"
   ]
  },
  {
   "cell_type": "code",
   "execution_count": 14,
   "metadata": {},
   "outputs": [],
   "source": [
    "#Suppression des lignes où l age du conducteur est inferieur à 18 ans , vu q'il ne peuvent pas conduire\n",
    "df=df.loc[df.an_nais>=16,]"
   ]
  },
  {
   "cell_type": "code",
   "execution_count": 15,
   "metadata": {},
   "outputs": [],
   "source": [
    "#décomposer l'age en tranches d'age [18-23] [24-35] [36-49] [50-69] [70+]\n",
    "df.loc[(df.an_nais>=16)&(df.an_nais<=23),\"an_nais\"]=1\n",
    "df.loc[(df.an_nais>=24)&(df.an_nais<=35),\"an_nais\"]=2\n",
    "df.loc[(df.an_nais>=36)&(df.an_nais<=49),\"an_nais\"]=3\n",
    "df.loc[(df.an_nais>=50)&(df.an_nais<=69),\"an_nais\"]=4\n",
    "df.loc[(df.an_nais>=70),\"an_nais\"]=5\n",
    "df.rename(columns={\"an_nais\":\"age\"},inplace=True)"
   ]
  },
  {
   "cell_type": "code",
   "execution_count": 16,
   "metadata": {},
   "outputs": [
    {
     "data": {
      "text/plain": [
       "Series([], Name: secu, dtype: float64)"
      ]
     },
     "execution_count": 16,
     "metadata": {},
     "output_type": "execute_result"
    }
   ],
   "source": [
    "#correction anomalies au niveau de secu: \n",
    "df.loc[df.secu==40].secu"
   ]
  },
  {
   "cell_type": "code",
   "execution_count": 17,
   "metadata": {},
   "outputs": [],
   "source": [
    "df.loc[df.secu==31,\"secu\"]=df.secu.mode()[0]"
   ]
  },
  {
   "cell_type": "code",
   "execution_count": 18,
   "metadata": {},
   "outputs": [],
   "source": [
    "#transformation de secu en : dispositif de securité utilisé ou non (binaire)\n",
    "df.loc[df.secu%10==1,\"secu\"]=1\n",
    "df.loc[df.secu%10!=1,\"secu\"]=0"
   ]
  },
  {
   "cell_type": "code",
   "execution_count": 19,
   "metadata": {},
   "outputs": [],
   "source": [
    "#transformation de lum en trois catégories (utilisation la plus frequente à l aube , le jour , ou bien la nuit ?)\n",
    "df.loc[df.lum==2,\"lum\"]=1 #aube\n",
    "df.loc[df.lum==1,\"lum\"]=2 #matin\n",
    "df.loc[df.lum!=2,\"lum\"]=3 #soir"
   ]
  },
  {
   "cell_type": "code",
   "execution_count": 20,
   "metadata": {},
   "outputs": [
    {
     "data": {
      "text/plain": [
       "(98317, 46)"
      ]
     },
     "execution_count": 20,
     "metadata": {},
     "output_type": "execute_result"
    }
   ],
   "source": [
    "#elimination des moyens de transport commun (vu que notre etude concerne une assurance privée)\n",
    "df=df[(df.catv!=18) & (df.catv!=19) & (df.catv!=37) & (df.catv!=38) & (df.catv!=39) & (df.catv!=40)]\n",
    "df.shape"
   ]
  },
  {
   "cell_type": "code",
   "execution_count": 21,
   "metadata": {},
   "outputs": [
    {
     "data": {
      "text/html": [
       "<div>\n",
       "<style scoped>\n",
       "    .dataframe tbody tr th:only-of-type {\n",
       "        vertical-align: middle;\n",
       "    }\n",
       "\n",
       "    .dataframe tbody tr th {\n",
       "        vertical-align: top;\n",
       "    }\n",
       "\n",
       "    .dataframe thead th {\n",
       "        text-align: right;\n",
       "    }\n",
       "</style>\n",
       "<table border=\"1\" class=\"dataframe\">\n",
       "  <thead>\n",
       "    <tr style=\"text-align: right;\">\n",
       "      <th></th>\n",
       "      <th>Num_Acc</th>\n",
       "      <th>senc</th>\n",
       "      <th>catv</th>\n",
       "      <th>occutc</th>\n",
       "      <th>obs</th>\n",
       "      <th>obsm</th>\n",
       "      <th>choc</th>\n",
       "      <th>manv</th>\n",
       "      <th>an</th>\n",
       "      <th>mois</th>\n",
       "      <th>...</th>\n",
       "      <th>place</th>\n",
       "      <th>catu</th>\n",
       "      <th>grav</th>\n",
       "      <th>sexe</th>\n",
       "      <th>trajet</th>\n",
       "      <th>secu</th>\n",
       "      <th>locp</th>\n",
       "      <th>actp</th>\n",
       "      <th>etatp</th>\n",
       "      <th>age</th>\n",
       "    </tr>\n",
       "  </thead>\n",
       "  <tbody>\n",
       "    <tr>\n",
       "      <th>0</th>\n",
       "      <td>201700000001</td>\n",
       "      <td>0.0</td>\n",
       "      <td>7</td>\n",
       "      <td>0</td>\n",
       "      <td>0.0</td>\n",
       "      <td>2.0</td>\n",
       "      <td>3.0</td>\n",
       "      <td>9.0</td>\n",
       "      <td>17</td>\n",
       "      <td>1</td>\n",
       "      <td>...</td>\n",
       "      <td>1.0</td>\n",
       "      <td>1</td>\n",
       "      <td>3</td>\n",
       "      <td>1</td>\n",
       "      <td>9.0</td>\n",
       "      <td>0.0</td>\n",
       "      <td>0.0</td>\n",
       "      <td>0.0</td>\n",
       "      <td>0.0</td>\n",
       "      <td>3.0</td>\n",
       "    </tr>\n",
       "    <tr>\n",
       "      <th>2</th>\n",
       "      <td>201700000001</td>\n",
       "      <td>0.0</td>\n",
       "      <td>10</td>\n",
       "      <td>0</td>\n",
       "      <td>0.0</td>\n",
       "      <td>2.0</td>\n",
       "      <td>3.0</td>\n",
       "      <td>13.0</td>\n",
       "      <td>17</td>\n",
       "      <td>1</td>\n",
       "      <td>...</td>\n",
       "      <td>1.0</td>\n",
       "      <td>1</td>\n",
       "      <td>3</td>\n",
       "      <td>1</td>\n",
       "      <td>1.0</td>\n",
       "      <td>0.0</td>\n",
       "      <td>0.0</td>\n",
       "      <td>0.0</td>\n",
       "      <td>0.0</td>\n",
       "      <td>4.0</td>\n",
       "    </tr>\n",
       "    <tr>\n",
       "      <th>3</th>\n",
       "      <td>201700000002</td>\n",
       "      <td>0.0</td>\n",
       "      <td>7</td>\n",
       "      <td>0</td>\n",
       "      <td>0.0</td>\n",
       "      <td>0.0</td>\n",
       "      <td>1.0</td>\n",
       "      <td>16.0</td>\n",
       "      <td>17</td>\n",
       "      <td>2</td>\n",
       "      <td>...</td>\n",
       "      <td>1.0</td>\n",
       "      <td>1</td>\n",
       "      <td>1</td>\n",
       "      <td>1</td>\n",
       "      <td>0.0</td>\n",
       "      <td>1.0</td>\n",
       "      <td>0.0</td>\n",
       "      <td>0.0</td>\n",
       "      <td>0.0</td>\n",
       "      <td>4.0</td>\n",
       "    </tr>\n",
       "    <tr>\n",
       "      <th>4</th>\n",
       "      <td>201700000002</td>\n",
       "      <td>0.0</td>\n",
       "      <td>1</td>\n",
       "      <td>0</td>\n",
       "      <td>0.0</td>\n",
       "      <td>0.0</td>\n",
       "      <td>7.0</td>\n",
       "      <td>1.0</td>\n",
       "      <td>17</td>\n",
       "      <td>2</td>\n",
       "      <td>...</td>\n",
       "      <td>1.0</td>\n",
       "      <td>1</td>\n",
       "      <td>3</td>\n",
       "      <td>1</td>\n",
       "      <td>5.0</td>\n",
       "      <td>0.0</td>\n",
       "      <td>0.0</td>\n",
       "      <td>0.0</td>\n",
       "      <td>0.0</td>\n",
       "      <td>4.0</td>\n",
       "    </tr>\n",
       "    <tr>\n",
       "      <th>5</th>\n",
       "      <td>201700000003</td>\n",
       "      <td>0.0</td>\n",
       "      <td>10</td>\n",
       "      <td>0</td>\n",
       "      <td>0.0</td>\n",
       "      <td>2.0</td>\n",
       "      <td>1.0</td>\n",
       "      <td>1.0</td>\n",
       "      <td>17</td>\n",
       "      <td>3</td>\n",
       "      <td>...</td>\n",
       "      <td>1.0</td>\n",
       "      <td>1</td>\n",
       "      <td>1</td>\n",
       "      <td>1</td>\n",
       "      <td>1.0</td>\n",
       "      <td>1.0</td>\n",
       "      <td>0.0</td>\n",
       "      <td>0.0</td>\n",
       "      <td>0.0</td>\n",
       "      <td>3.0</td>\n",
       "    </tr>\n",
       "  </tbody>\n",
       "</table>\n",
       "<p>5 rows × 46 columns</p>\n",
       "</div>"
      ],
      "text/plain": [
       "        Num_Acc  senc  catv  occutc  obs  obsm  choc  manv  an  mois ...   \\\n",
       "0  201700000001   0.0     7       0  0.0   2.0   3.0   9.0  17     1 ...    \n",
       "2  201700000001   0.0    10       0  0.0   2.0   3.0  13.0  17     1 ...    \n",
       "3  201700000002   0.0     7       0  0.0   0.0   1.0  16.0  17     2 ...    \n",
       "4  201700000002   0.0     1       0  0.0   0.0   7.0   1.0  17     2 ...    \n",
       "5  201700000003   0.0    10       0  0.0   2.0   1.0   1.0  17     3 ...    \n",
       "\n",
       "   place  catu  grav  sexe  trajet  secu  locp  actp etatp  age  \n",
       "0    1.0     1     3     1     9.0   0.0   0.0   0.0   0.0  3.0  \n",
       "2    1.0     1     3     1     1.0   0.0   0.0   0.0   0.0  4.0  \n",
       "3    1.0     1     1     1     0.0   1.0   0.0   0.0   0.0  4.0  \n",
       "4    1.0     1     3     1     5.0   0.0   0.0   0.0   0.0  4.0  \n",
       "5    1.0     1     1     1     1.0   1.0   0.0   0.0   0.0  3.0  \n",
       "\n",
       "[5 rows x 46 columns]"
      ]
     },
     "execution_count": 21,
     "metadata": {},
     "output_type": "execute_result"
    }
   ],
   "source": [
    "df2=pd.DataFrame(df)\n",
    "df2.head()"
   ]
  },
  {
   "cell_type": "code",
   "execution_count": 59,
   "metadata": {},
   "outputs": [],
   "source": [
    "#ne garder que les variables dont on a besoin pour nos indices à savoir :  An_nais (date de naissance) , trajet (utilisation du vehicule) , secu (utilisation du dispositif de securité) , catv (categorie du vehicule) , sexe , com (commune de residence) , lum (heures d'utilisation les plus freq.) , an (annee)\n",
    "df.drop(columns=[\"Num_Acc\",\"agg\",\"atm\",\"int\",\"col\",\"adr\",\"gps\",\"lat\",\"long\",\"catr\",\"voie\",\"circ\",\"vosp\",\"prof\",\"plan\",\"surf\",\"infra\",\"situ\",\"env1\",\"senc\",\"mois\",\"jour\",\"nbv\",\"obs\",\"obsm\",\"choc\",\"manv\",\"occutc\",\"place\",\"catu\",\"locp\",\"actp\",\"etatp\",\"hrmn\",\"lartpc\",\"larrout\"],inplace=True)"
   ]
  },
  {
   "cell_type": "code",
   "execution_count": 100,
   "metadata": {},
   "outputs": [],
   "source": [
    "#groupper et agréger les données par an et par commune\n",
    "df['nbacc']=1\n",
    "df=df.groupby(['catv','an','lum','com','dep','sexe','trajet','secu','age','grav'],as_index=False).agg({\"nbacc\":\"count\"})"
   ]
  },
  {
   "cell_type": "code",
   "execution_count": 101,
   "metadata": {},
   "outputs": [],
   "source": [
    "df=pd.get_dummies(df,columns=['catv','lum','sexe','trajet','secu','age','grav'])"
   ]
  },
  {
   "cell_type": "code",
   "execution_count": 102,
   "metadata": {},
   "outputs": [
    {
     "data": {
      "text/html": [
       "<div>\n",
       "<style scoped>\n",
       "    .dataframe tbody tr th:only-of-type {\n",
       "        vertical-align: middle;\n",
       "    }\n",
       "\n",
       "    .dataframe tbody tr th {\n",
       "        vertical-align: top;\n",
       "    }\n",
       "\n",
       "    .dataframe thead th {\n",
       "        text-align: right;\n",
       "    }\n",
       "</style>\n",
       "<table border=\"1\" class=\"dataframe\">\n",
       "  <thead>\n",
       "    <tr style=\"text-align: right;\">\n",
       "      <th></th>\n",
       "      <th>Code INSEE</th>\n",
       "      <th>Code Postal</th>\n",
       "      <th>Commune</th>\n",
       "      <th>Département</th>\n",
       "      <th>Région</th>\n",
       "      <th>Statut</th>\n",
       "      <th>Altitude Moyenne</th>\n",
       "      <th>Superficie</th>\n",
       "      <th>Population</th>\n",
       "      <th>geo_point_2d</th>\n",
       "      <th>geo_shape</th>\n",
       "      <th>ID Geofla</th>\n",
       "      <th>Code Commune</th>\n",
       "      <th>Code Canton</th>\n",
       "      <th>Code Arrondissement</th>\n",
       "      <th>Code Département</th>\n",
       "      <th>Code Région</th>\n",
       "    </tr>\n",
       "  </thead>\n",
       "  <tbody>\n",
       "    <tr>\n",
       "      <th>0</th>\n",
       "      <td>32460</td>\n",
       "      <td>32720</td>\n",
       "      <td>VERGOIGNAN</td>\n",
       "      <td>GERS</td>\n",
       "      <td>MIDI-PYRENEES</td>\n",
       "      <td>Commune simple</td>\n",
       "      <td>126.0</td>\n",
       "      <td>1056.0</td>\n",
       "      <td>0.3</td>\n",
       "      <td>43.7235746425, -0.188266221507</td>\n",
       "      <td>{\"type\": \"Polygon\", \"coordinates\": [[[-0.19884...</td>\n",
       "      <td>34962</td>\n",
       "      <td>460</td>\n",
       "      <td>24</td>\n",
       "      <td>3</td>\n",
       "      <td>32</td>\n",
       "      <td>73</td>\n",
       "    </tr>\n",
       "    <tr>\n",
       "      <th>1</th>\n",
       "      <td>51141</td>\n",
       "      <td>51240</td>\n",
       "      <td>LA CHAUSSEE-SUR-MARNE</td>\n",
       "      <td>MARNE</td>\n",
       "      <td>CHAMPAGNE-ARDENNE</td>\n",
       "      <td>Commune simple</td>\n",
       "      <td>130.0</td>\n",
       "      <td>2240.0</td>\n",
       "      <td>0.7</td>\n",
       "      <td>48.8433156105, 4.54286173009</td>\n",
       "      <td>{\"type\": \"Polygon\", \"coordinates\": [[[4.504753...</td>\n",
       "      <td>18178</td>\n",
       "      <td>141</td>\n",
       "      <td>33</td>\n",
       "      <td>4</td>\n",
       "      <td>51</td>\n",
       "      <td>21</td>\n",
       "    </tr>\n",
       "  </tbody>\n",
       "</table>\n",
       "</div>"
      ],
      "text/plain": [
       "  Code INSEE  Code Postal                Commune Département  \\\n",
       "0      32460        32720             VERGOIGNAN        GERS   \n",
       "1      51141        51240  LA CHAUSSEE-SUR-MARNE       MARNE   \n",
       "\n",
       "              Région          Statut  Altitude Moyenne  Superficie  \\\n",
       "0      MIDI-PYRENEES  Commune simple             126.0      1056.0   \n",
       "1  CHAMPAGNE-ARDENNE  Commune simple             130.0      2240.0   \n",
       "\n",
       "   Population                    geo_point_2d  \\\n",
       "0         0.3  43.7235746425, -0.188266221507   \n",
       "1         0.7    48.8433156105, 4.54286173009   \n",
       "\n",
       "                                           geo_shape  ID Geofla  Code Commune  \\\n",
       "0  {\"type\": \"Polygon\", \"coordinates\": [[[-0.19884...      34962           460   \n",
       "1  {\"type\": \"Polygon\", \"coordinates\": [[[4.504753...      18178           141   \n",
       "\n",
       "   Code Canton  Code Arrondissement Code Département  Code Région  \n",
       "0           24                    3               32           73  \n",
       "1           33                    4               51           21  "
      ]
     },
     "execution_count": 102,
     "metadata": {},
     "output_type": "execute_result"
    }
   ],
   "source": [
    "#charger un jeu de données contenant de informations géograpphques et démographiques\n",
    "population = pd.read_csv(r\"populat.csv\",sep=\";\")\n",
    "population.head(2)"
   ]
  },
  {
   "cell_type": "code",
   "execution_count": 103,
   "metadata": {},
   "outputs": [],
   "source": [
    "#garder les colonnes qui concernent : la superficie de la region , poupulation , code commune et departement (pour la jointure)\n",
    "# et l altitude moyenne\n",
    "col_list=['Code INSEE','Altitude Moyenne','Superficie','Population','Code Commune','Code Département']\n",
    "population=population[col_list]"
   ]
  },
  {
   "cell_type": "code",
   "execution_count": 104,
   "metadata": {},
   "outputs": [
    {
     "name": "stderr",
     "output_type": "stream",
     "text": [
      "C:\\Users\\Njeimi Amal\\Anaconda3\\lib\\site-packages\\pandas\\core\\reshape\\merge.py:969: UserWarning: You are merging on int and float columns where the float values are not equal to their int representation\n",
      "  'representation', UserWarning)\n"
     ]
    }
   ],
   "source": [
    "#jointure des données par code commune et departement\n",
    "population.rename(columns={\"Code Commune\":\"com\",\"Code Département\":\"dep\",\"Code INSEE\":\"code_insee\",\"Altitude Moyenne\":\"altitude_moy\"},inplace=True)\n",
    "population.loc[population.dep==\"2A\"]=20.1\n",
    "population.loc[population.dep==\"2B\"]=20.2\n",
    "population.dep=population.dep.astype(float)\n",
    "df=pd.merge(left=df,right=population,on=[\"com\",\"dep\"])"
   ]
  },
  {
   "cell_type": "code",
   "execution_count": 105,
   "metadata": {},
   "outputs": [
    {
     "name": "stdout",
     "output_type": "stream",
     "text": [
      "WARNING *** OLE2 inconsistency: SSCS size is 0 but SSAT size is non-zero\n"
     ]
    },
    {
     "data": {
      "text/html": [
       "<div>\n",
       "<style scoped>\n",
       "    .dataframe tbody tr th:only-of-type {\n",
       "        vertical-align: middle;\n",
       "    }\n",
       "\n",
       "    .dataframe tbody tr th {\n",
       "        vertical-align: top;\n",
       "    }\n",
       "\n",
       "    .dataframe thead th {\n",
       "        text-align: right;\n",
       "    }\n",
       "</style>\n",
       "<table border=\"1\" class=\"dataframe\">\n",
       "  <thead>\n",
       "    <tr style=\"text-align: right;\">\n",
       "      <th></th>\n",
       "      <th>CODGEO</th>\n",
       "      <th>Nb Pharmacies et parfumerie</th>\n",
       "      <th>Dynamique Entrepreneuriale</th>\n",
       "      <th>Dynamique Entrepreneuriale Service et Commerce</th>\n",
       "      <th>Synergie Médicale COMMUNE</th>\n",
       "      <th>Orientation Economique</th>\n",
       "      <th>Indice Fiscal Partiel</th>\n",
       "      <th>Score Fiscal</th>\n",
       "      <th>Indice Evasion Client</th>\n",
       "      <th>Score Evasion Client</th>\n",
       "      <th>...</th>\n",
       "      <th>Score Croissance Entrepreneuriale</th>\n",
       "      <th>Score VA Région</th>\n",
       "      <th>Score PIB</th>\n",
       "      <th>Environnement Démographique</th>\n",
       "      <th>Fidélité</th>\n",
       "      <th>SYN MEDICAL</th>\n",
       "      <th>Seg Cap Fiscale</th>\n",
       "      <th>Seg Dyn Entre</th>\n",
       "      <th>DYN SetC</th>\n",
       "      <th>CP</th>\n",
       "    </tr>\n",
       "  </thead>\n",
       "  <tbody>\n",
       "    <tr>\n",
       "      <th>0</th>\n",
       "      <td>01001</td>\n",
       "      <td>0.0</td>\n",
       "      <td>57.0</td>\n",
       "      <td>23.0</td>\n",
       "      <td>114</td>\n",
       "      <td>Bassin Industriel</td>\n",
       "      <td>101.93878</td>\n",
       "      <td>59.04139</td>\n",
       "      <td>0.0</td>\n",
       "      <td>0.0</td>\n",
       "      <td>...</td>\n",
       "      <td>0.01585</td>\n",
       "      <td>32.42578</td>\n",
       "      <td>33.83811</td>\n",
       "      <td>Bassin Industriel en croissance démographique</td>\n",
       "      <td>Pop Sédentaire</td>\n",
       "      <td>Synergie Médicale</td>\n",
       "      <td>Fiscalité moyenne</td>\n",
       "      <td>Faible dynamique</td>\n",
       "      <td>Faible Dynamique Serv et Com</td>\n",
       "      <td>01</td>\n",
       "    </tr>\n",
       "    <tr>\n",
       "      <th>1</th>\n",
       "      <td>01002</td>\n",
       "      <td>0.0</td>\n",
       "      <td>45.0</td>\n",
       "      <td>4.0</td>\n",
       "      <td>143</td>\n",
       "      <td>Bassin Résidentiel</td>\n",
       "      <td>101.93878</td>\n",
       "      <td>59.04139</td>\n",
       "      <td>0.0</td>\n",
       "      <td>0.0</td>\n",
       "      <td>...</td>\n",
       "      <td>0.00173</td>\n",
       "      <td>32.42578</td>\n",
       "      <td>33.83811</td>\n",
       "      <td>Bassin Résidentiel en croissance démographique</td>\n",
       "      <td>Pop Sédentaire</td>\n",
       "      <td>Forte Synergie Médicale</td>\n",
       "      <td>Fiscalité moyenne</td>\n",
       "      <td>Faible dynamique</td>\n",
       "      <td>Faible Dynamique Serv et Com</td>\n",
       "      <td>01</td>\n",
       "    </tr>\n",
       "  </tbody>\n",
       "</table>\n",
       "<p>2 rows × 101 columns</p>\n",
       "</div>"
      ],
      "text/plain": [
       "  CODGEO  Nb Pharmacies et parfumerie  Dynamique Entrepreneuriale  \\\n",
       "0  01001                          0.0                        57.0   \n",
       "1  01002                          0.0                        45.0   \n",
       "\n",
       "   Dynamique Entrepreneuriale Service et Commerce  Synergie Médicale COMMUNE  \\\n",
       "0                                            23.0                        114   \n",
       "1                                             4.0                        143   \n",
       "\n",
       "  Orientation Economique  Indice Fiscal Partiel  Score Fiscal  \\\n",
       "0      Bassin Industriel              101.93878      59.04139   \n",
       "1     Bassin Résidentiel              101.93878      59.04139   \n",
       "\n",
       "   Indice Evasion Client  Score Evasion Client ...  \\\n",
       "0                    0.0                   0.0 ...   \n",
       "1                    0.0                   0.0 ...   \n",
       "\n",
       "   Score Croissance Entrepreneuriale  Score VA Région Score PIB  \\\n",
       "0                            0.01585         32.42578  33.83811   \n",
       "1                            0.00173         32.42578  33.83811   \n",
       "\n",
       "                      Environnement Démographique        Fidélité  \\\n",
       "0   Bassin Industriel en croissance démographique  Pop Sédentaire   \n",
       "1  Bassin Résidentiel en croissance démographique  Pop Sédentaire   \n",
       "\n",
       "               SYN MEDICAL    Seg Cap Fiscale     Seg Dyn Entre  \\\n",
       "0        Synergie Médicale  Fiscalité moyenne  Faible dynamique   \n",
       "1  Forte Synergie Médicale  Fiscalité moyenne  Faible dynamique   \n",
       "\n",
       "                       DYN SetC  CP  \n",
       "0  Faible Dynamique Serv et Com  01  \n",
       "1  Faible Dynamique Serv et Com  01  \n",
       "\n",
       "[2 rows x 101 columns]"
      ]
     },
     "execution_count": 105,
     "metadata": {},
     "output_type": "execute_result"
    }
   ],
   "source": [
    "#chargement d'un jeu de donnée contenant des données socio démographiques\n",
    "socioD=pd.read_excel(r\"MDB-INSEE-V2.xls\")\n",
    "socioD.head(2)"
   ]
  },
  {
   "cell_type": "code",
   "execution_count": 106,
   "metadata": {},
   "outputs": [],
   "source": [
    "#jointure de socioD avec notre jeu de données principale\n",
    "ind_list=['CODGEO','Score Démographique','Score Ménages','Evolution Population','Nb Femme','Nb Homme','Nb Mineurs','Nb Majeurs','Nb Etudiants','Reg Moyenne Salaires Horaires','Score Urbanité','Nb Education, santé, action sociale','Score Croissance Population']\n",
    "socioD=socioD[ind_list]\n",
    "socioD.rename(columns={\"CODGEO\":\"code_insee\"},inplace=True)\n",
    "df=pd.merge(left=df,right=socioD,on=\"code_insee\")"
   ]
  },
  {
   "cell_type": "markdown",
   "metadata": {},
   "source": [
    "# Modélisation"
   ]
  },
  {
   "cell_type": "markdown",
   "metadata": {},
   "source": [
    "## Linear regression"
   ]
  },
  {
   "cell_type": "code",
   "execution_count": 107,
   "metadata": {},
   "outputs": [],
   "source": [
    "#Calcul de l'indice : Probabilité que le profil de l'assuré ait un accident par rapport à tout les accidents ayant eu lieu dans la meme commune\n",
    "#pteNbAcc contiendra cet indice ==> elle représente donc notre variable cible\n",
    "df[\"pteNbAcc\"]=1\n",
    "aux=[]\n",
    "for row in df.iterrows():\n",
    "    aux.append(df.loc[(df.dep==row[1][\"dep\"])&(df.com==row[1][\"com\"]),].nbacc.sum())\n",
    "df.pteNbAcc=aux\n",
    "df.pteNbAcc=df.nbacc/df.pteNbAcc"
   ]
  },
  {
   "cell_type": "code",
   "execution_count": 108,
   "metadata": {},
   "outputs": [],
   "source": [
    "df.drop(columns=[\"nbacc\"],inplace=True)"
   ]
  },
  {
   "cell_type": "code",
   "execution_count": 109,
   "metadata": {},
   "outputs": [],
   "source": [
    "x=df.drop(columns=['pteNbAcc'])\n",
    "y=df['pteNbAcc']"
   ]
  },
  {
   "cell_type": "code",
   "execution_count": 110,
   "metadata": {},
   "outputs": [],
   "source": [
    "from sklearn.cross_validation import train_test_split\n",
    "X_train,X_test,y_train,y_test = train_test_split(x,y,test_size=0.25,random_state=0)\n",
    "\n",
    "# Feature Scaling\n",
    "from sklearn.preprocessing import StandardScaler\n",
    "sc = StandardScaler()\n",
    "X_train = sc.fit_transform(X_train)\n",
    "X_test = sc.transform(X_test)"
   ]
  },
  {
   "cell_type": "code",
   "execution_count": 111,
   "metadata": {},
   "outputs": [
    {
     "name": "stdout",
     "output_type": "stream",
     "text": [
      "Intercept: \n",
      " 0.1682770661439111\n",
      "Coefficients: \n",
      " [ 3.93597798e-15 -1.91662574e+09 -2.83917557e+11 -1.72998991e+09\n",
      " -1.52936004e+09 -5.65009707e+08 -4.01658658e+09 -1.90555003e+09\n",
      " -5.95558659e+08 -8.62403445e+08 -9.02878914e+08 -2.31640592e+08\n",
      " -9.10908023e+08 -2.72950485e+08 -4.75389743e+08 -1.20533698e+09\n",
      " -1.35924898e+09 -7.48852105e+08 -2.48473445e+09 -9.96933592e+08\n",
      " -1.72684023e+08 -3.72084834e+08 -5.14301544e+08 -2.13108152e+10\n",
      " -2.13108152e+10  7.31955600e+10  7.31955600e+10 -1.40561997e+11\n",
      " -1.36157746e+11 -4.39825470e+10 -6.16493846e+10 -1.10045489e+11\n",
      " -1.74377864e+11 -9.82825279e+10  2.36756928e+10  2.36756928e+10\n",
      "  1.56380090e+10  1.78027214e+10  1.73809522e+10  1.68425006e+10\n",
      "  1.06279983e+10  9.41438525e+10  3.46347678e+10  8.01143105e+10\n",
      "  8.69409623e+10  2.83697775e+11  1.09386444e-02 -2.95753479e-02\n",
      "  2.94647217e-02  2.60453796e+00  4.16336060e-02  4.39682007e-02\n",
      " -9.22957547e+11 -8.13673565e+11  1.01824064e+12  7.18911263e+11\n",
      "  4.69436646e-02 -6.46209717e-03 -1.21444702e-01  2.36053467e-02\n",
      " -3.70750427e-02]\n"
     ]
    }
   ],
   "source": [
    "\n",
    "from sklearn import datasets, linear_model\n",
    "from sklearn.metrics import mean_squared_error, r2_score\n",
    "\n",
    "r = linear_model.LinearRegression()\n",
    "r.fit(X_train,y_train)\n",
    "print('Intercept: \\n',r.intercept_)\n",
    "print('Coefficients: \\n',r.coef_)"
   ]
  },
  {
   "cell_type": "markdown",
   "metadata": {},
   "source": [
    "## Regression logistique"
   ]
  },
  {
   "cell_type": "code",
   "execution_count": 105,
   "metadata": {},
   "outputs": [],
   "source": [
    "from sklearn.linear_model import LogisticRegression"
   ]
  },
  {
   "cell_type": "code",
   "execution_count": 106,
   "metadata": {},
   "outputs": [],
   "source": [
    "from scipy.stats import multinomial"
   ]
  },
  {
   "cell_type": "code",
   "execution_count": 22,
   "metadata": {},
   "outputs": [
    {
     "data": {
      "text/html": [
       "<div>\n",
       "<style scoped>\n",
       "    .dataframe tbody tr th:only-of-type {\n",
       "        vertical-align: middle;\n",
       "    }\n",
       "\n",
       "    .dataframe tbody tr th {\n",
       "        vertical-align: top;\n",
       "    }\n",
       "\n",
       "    .dataframe thead th {\n",
       "        text-align: right;\n",
       "    }\n",
       "</style>\n",
       "<table border=\"1\" class=\"dataframe\">\n",
       "  <thead>\n",
       "    <tr style=\"text-align: right;\">\n",
       "      <th></th>\n",
       "      <th>Num_Acc</th>\n",
       "      <th>senc</th>\n",
       "      <th>catv</th>\n",
       "      <th>occutc</th>\n",
       "      <th>obs</th>\n",
       "      <th>obsm</th>\n",
       "      <th>choc</th>\n",
       "      <th>manv</th>\n",
       "      <th>an</th>\n",
       "      <th>mois</th>\n",
       "      <th>...</th>\n",
       "      <th>place</th>\n",
       "      <th>catu</th>\n",
       "      <th>grav</th>\n",
       "      <th>sexe</th>\n",
       "      <th>trajet</th>\n",
       "      <th>secu</th>\n",
       "      <th>locp</th>\n",
       "      <th>actp</th>\n",
       "      <th>etatp</th>\n",
       "      <th>age</th>\n",
       "    </tr>\n",
       "  </thead>\n",
       "  <tbody>\n",
       "    <tr>\n",
       "      <th>0</th>\n",
       "      <td>201700000001</td>\n",
       "      <td>0.0</td>\n",
       "      <td>7</td>\n",
       "      <td>0</td>\n",
       "      <td>0.0</td>\n",
       "      <td>2.0</td>\n",
       "      <td>3.0</td>\n",
       "      <td>9.0</td>\n",
       "      <td>17</td>\n",
       "      <td>1</td>\n",
       "      <td>...</td>\n",
       "      <td>1.0</td>\n",
       "      <td>1</td>\n",
       "      <td>3</td>\n",
       "      <td>1</td>\n",
       "      <td>9.0</td>\n",
       "      <td>0.0</td>\n",
       "      <td>0.0</td>\n",
       "      <td>0.0</td>\n",
       "      <td>0.0</td>\n",
       "      <td>3.0</td>\n",
       "    </tr>\n",
       "    <tr>\n",
       "      <th>2</th>\n",
       "      <td>201700000001</td>\n",
       "      <td>0.0</td>\n",
       "      <td>10</td>\n",
       "      <td>0</td>\n",
       "      <td>0.0</td>\n",
       "      <td>2.0</td>\n",
       "      <td>3.0</td>\n",
       "      <td>13.0</td>\n",
       "      <td>17</td>\n",
       "      <td>1</td>\n",
       "      <td>...</td>\n",
       "      <td>1.0</td>\n",
       "      <td>1</td>\n",
       "      <td>3</td>\n",
       "      <td>1</td>\n",
       "      <td>1.0</td>\n",
       "      <td>0.0</td>\n",
       "      <td>0.0</td>\n",
       "      <td>0.0</td>\n",
       "      <td>0.0</td>\n",
       "      <td>4.0</td>\n",
       "    </tr>\n",
       "    <tr>\n",
       "      <th>3</th>\n",
       "      <td>201700000002</td>\n",
       "      <td>0.0</td>\n",
       "      <td>7</td>\n",
       "      <td>0</td>\n",
       "      <td>0.0</td>\n",
       "      <td>0.0</td>\n",
       "      <td>1.0</td>\n",
       "      <td>16.0</td>\n",
       "      <td>17</td>\n",
       "      <td>2</td>\n",
       "      <td>...</td>\n",
       "      <td>1.0</td>\n",
       "      <td>1</td>\n",
       "      <td>1</td>\n",
       "      <td>1</td>\n",
       "      <td>0.0</td>\n",
       "      <td>1.0</td>\n",
       "      <td>0.0</td>\n",
       "      <td>0.0</td>\n",
       "      <td>0.0</td>\n",
       "      <td>4.0</td>\n",
       "    </tr>\n",
       "    <tr>\n",
       "      <th>4</th>\n",
       "      <td>201700000002</td>\n",
       "      <td>0.0</td>\n",
       "      <td>1</td>\n",
       "      <td>0</td>\n",
       "      <td>0.0</td>\n",
       "      <td>0.0</td>\n",
       "      <td>7.0</td>\n",
       "      <td>1.0</td>\n",
       "      <td>17</td>\n",
       "      <td>2</td>\n",
       "      <td>...</td>\n",
       "      <td>1.0</td>\n",
       "      <td>1</td>\n",
       "      <td>3</td>\n",
       "      <td>1</td>\n",
       "      <td>5.0</td>\n",
       "      <td>0.0</td>\n",
       "      <td>0.0</td>\n",
       "      <td>0.0</td>\n",
       "      <td>0.0</td>\n",
       "      <td>4.0</td>\n",
       "    </tr>\n",
       "    <tr>\n",
       "      <th>5</th>\n",
       "      <td>201700000003</td>\n",
       "      <td>0.0</td>\n",
       "      <td>10</td>\n",
       "      <td>0</td>\n",
       "      <td>0.0</td>\n",
       "      <td>2.0</td>\n",
       "      <td>1.0</td>\n",
       "      <td>1.0</td>\n",
       "      <td>17</td>\n",
       "      <td>3</td>\n",
       "      <td>...</td>\n",
       "      <td>1.0</td>\n",
       "      <td>1</td>\n",
       "      <td>1</td>\n",
       "      <td>1</td>\n",
       "      <td>1.0</td>\n",
       "      <td>1.0</td>\n",
       "      <td>0.0</td>\n",
       "      <td>0.0</td>\n",
       "      <td>0.0</td>\n",
       "      <td>3.0</td>\n",
       "    </tr>\n",
       "  </tbody>\n",
       "</table>\n",
       "<p>5 rows × 46 columns</p>\n",
       "</div>"
      ],
      "text/plain": [
       "        Num_Acc  senc  catv  occutc  obs  obsm  choc  manv  an  mois ...   \\\n",
       "0  201700000001   0.0     7       0  0.0   2.0   3.0   9.0  17     1 ...    \n",
       "2  201700000001   0.0    10       0  0.0   2.0   3.0  13.0  17     1 ...    \n",
       "3  201700000002   0.0     7       0  0.0   0.0   1.0  16.0  17     2 ...    \n",
       "4  201700000002   0.0     1       0  0.0   0.0   7.0   1.0  17     2 ...    \n",
       "5  201700000003   0.0    10       0  0.0   2.0   1.0   1.0  17     3 ...    \n",
       "\n",
       "   place  catu  grav  sexe  trajet  secu  locp  actp etatp  age  \n",
       "0    1.0     1     3     1     9.0   0.0   0.0   0.0   0.0  3.0  \n",
       "2    1.0     1     3     1     1.0   0.0   0.0   0.0   0.0  4.0  \n",
       "3    1.0     1     1     1     0.0   1.0   0.0   0.0   0.0  4.0  \n",
       "4    1.0     1     3     1     5.0   0.0   0.0   0.0   0.0  4.0  \n",
       "5    1.0     1     1     1     1.0   1.0   0.0   0.0   0.0  3.0  \n",
       "\n",
       "[5 rows x 46 columns]"
      ]
     },
     "execution_count": 22,
     "metadata": {},
     "output_type": "execute_result"
    }
   ],
   "source": [
    "round(df2)\n",
    "df2.head()"
   ]
  },
  {
   "cell_type": "code",
   "execution_count": 42,
   "metadata": {},
   "outputs": [],
   "source": [
    "df3=pd.DataFrame(df2)"
   ]
  },
  {
   "cell_type": "code",
   "execution_count": 116,
   "metadata": {},
   "outputs": [],
   "source": [
    "df2.drop(columns=[\"Num_Acc\",\"senc\",\"trajet\",\"gps\",\"adr\",\"voie\"],inplace=True)"
   ]
  },
  {
   "cell_type": "code",
   "execution_count": 109,
   "metadata": {},
   "outputs": [],
   "source": [
    "x1=df2.drop(columns=['grav'])\n",
    "y1=df2['grav']"
   ]
  },
  {
   "cell_type": "code",
   "execution_count": 182,
   "metadata": {},
   "outputs": [],
   "source": [
    "df2=df2.astype('float')"
   ]
  },
  {
   "cell_type": "code",
   "execution_count": 110,
   "metadata": {},
   "outputs": [],
   "source": [
    "from sklearn.cross_validation import train_test_split\n",
    "X_train1,X_test1,y_train1,y_test1=train_test_split(x1,y1,test_size=0.25,random_state=0)"
   ]
  },
  {
   "cell_type": "code",
   "execution_count": 121,
   "metadata": {},
   "outputs": [
    {
     "name": "stderr",
     "output_type": "stream",
     "text": [
      "C:\\Users\\Njeimi Amal\\Anaconda3\\lib\\site-packages\\sklearn\\linear_model\\sag.py:326: ConvergenceWarning: The max_iter was reached which means the coef_ did not converge\n",
      "  \"the coef_ did not converge\", ConvergenceWarning)\n",
      "C:\\Users\\Njeimi Amal\\Anaconda3\\lib\\site-packages\\sklearn\\linear_model\\sag.py:326: ConvergenceWarning: The max_iter was reached which means the coef_ did not converge\n",
      "  \"the coef_ did not converge\", ConvergenceWarning)\n",
      "C:\\Users\\Njeimi Amal\\Anaconda3\\lib\\site-packages\\sklearn\\linear_model\\sag.py:326: ConvergenceWarning: The max_iter was reached which means the coef_ did not converge\n",
      "  \"the coef_ did not converge\", ConvergenceWarning)\n",
      "C:\\Users\\Njeimi Amal\\Anaconda3\\lib\\site-packages\\sklearn\\linear_model\\sag.py:326: ConvergenceWarning: The max_iter was reached which means the coef_ did not converge\n",
      "  \"the coef_ did not converge\", ConvergenceWarning)\n"
     ]
    },
    {
     "data": {
      "text/plain": [
       "LogisticRegression(C=1.0, class_weight=None, dual=False, fit_intercept=True,\n",
       "          intercept_scaling=1, max_iter=100, multi_class='ovr', n_jobs=1,\n",
       "          penalty='l2', random_state=None, solver='saga', tol=0.0001,\n",
       "          verbose=0, warm_start=False)"
      ]
     },
     "execution_count": 121,
     "metadata": {},
     "output_type": "execute_result"
    }
   ],
   "source": [
    "# import the class\n",
    "from sklearn.linear_model import LogisticRegression\n",
    "# instantiate the model (using the default parameters)\n",
    "logreg = LogisticRegression(solver=\"saga\")\n",
    "# fit the model with data\n",
    "logreg.fit(X_train1,y_train1)"
   ]
  },
  {
   "cell_type": "code",
   "execution_count": 122,
   "metadata": {},
   "outputs": [],
   "source": [
    "y_pred1=logreg.predict(X_test1)"
   ]
  },
  {
   "cell_type": "code",
   "execution_count": 134,
   "metadata": {},
   "outputs": [],
   "source": [
    "from sklearn import metrics\n",
    "cnf_matrix = metrics.confusion_matrix(y_test1, y_pred1)"
   ]
  },
  {
   "cell_type": "code",
   "execution_count": 135,
   "metadata": {},
   "outputs": [
    {
     "data": {
      "text/plain": [
       "Text(0.5,257.44,'Predicted label')"
      ]
     },
     "execution_count": 135,
     "metadata": {},
     "output_type": "execute_result"
    },
    {
     "data": {
      "image/png": "[encoded data removed]",
      "text/plain": [
       "<Figure size 432x288 with 2 Axes>"
      ]
     },
     "metadata": {},
     "output_type": "display_data"
    }
   ],
   "source": [
    "import numpy as np\n",
    "import matplotlib.pyplot as plt\n",
    "import seaborn as sns\n",
    "%matplotlib inline\n",
    "class_names=[0,1] # name  of classes\n",
    "fig, ax = plt.subplots()\n",
    "tick_marks = np.arange(len(class_names))\n",
    "plt.xticks(tick_marks, class_names)\n",
    "plt.yticks(tick_marks, class_names)\n",
    "# create heatmap\n",
    "sns.heatmap(pd.DataFrame(cnf_matrix), annot=True, cmap=\"YlGnBu\" ,fmt='g')\n",
    "ax.xaxis.set_label_position(\"top\")\n",
    "plt.tight_layout()\n",
    "plt.title('Confusion matrix', y=1.1)\n",
    "plt.ylabel('Actual label')\n",
    "plt.xlabel('Predicted label')"
   ]
  },
  {
   "cell_type": "code",
   "execution_count": 219,
   "metadata": {},
   "outputs": [
    {
     "data": {
      "text/plain": [
       "0.47853372255052534"
      ]
     },
     "execution_count": 219,
     "metadata": {},
     "output_type": "execute_result"
    }
   ],
   "source": [
    "logreg.score(x1,y1)"
   ]
  },
  {
   "cell_type": "code",
   "execution_count": 141,
   "metadata": {},
   "outputs": [
    {
     "name": "stdout",
     "output_type": "stream",
     "text": [
      "             precision    recall  f1-score   support\n",
      "\n",
      "          1       0.48      1.00      0.65     11761\n",
      "          2       0.00      0.00      0.00       625\n",
      "          3       0.00      0.00      0.00      4624\n",
      "          4       0.00      0.00      0.00      7570\n",
      "\n",
      "avg / total       0.23      0.48      0.31     24580\n",
      "\n"
     ]
    },
    {
     "name": "stderr",
     "output_type": "stream",
     "text": [
      "C:\\Users\\Njeimi Amal\\Anaconda3\\lib\\site-packages\\sklearn\\metrics\\classification.py:1135: UndefinedMetricWarning: Precision and F-score are ill-defined and being set to 0.0 in labels with no predicted samples.\n",
      "  'precision', 'predicted', average, warn_for)\n"
     ]
    }
   ],
   "source": [
    "from sklearn.metrics import classification_report\n",
    "print(classification_report(y_test1,y_pred1))"
   ]
  },
  {
   "cell_type": "code",
   "execution_count": null,
   "metadata": {},
   "outputs": [],
   "source": [
    "print('Intercept: \\n',logreg.intercept_)\n",
    "print('Coefficients: \\n',logreg.coef_)"
   ]
  },
  {
   "cell_type": "markdown",
   "metadata": {},
   "source": [
    "#### Stepwise selection"
   ]
  },
  {
   "cell_type": "code",
   "execution_count": 111,
   "metadata": {},
   "outputs": [],
   "source": [
    "from sklearn.datasets import load_boston\n",
    "import pandas as pd\n",
    "import numpy as np\n",
    "import statsmodels.api as sm"
   ]
  },
  {
   "cell_type": "code",
   "execution_count": 205,
   "metadata": {},
   "outputs": [],
   "source": [
    "def stepwise_selection(X, y, \n",
    "                       initial_list=[], \n",
    "                       threshold_in=0.01, \n",
    "                       threshold_out = 0.05, \n",
    "                       verbose=True):\n",
    "\n",
    "    included = list(initial_list)\n",
    "    while True:\n",
    "        changed=False\n",
    "        # forward step\n",
    "        excluded = list(set(X.columns)-set(included))\n",
    "        new_pval = pd.Series(index=excluded)\n",
    "        for new_column in excluded:\n",
    "            model = sm.OLS(y, sm.add_constant(pd.DataFrame(X[included+[new_column]]))).fit()\n",
    "            new_pval[new_column] = model.pvalues[new_column]\n",
    "        best_pval = new_pval.min()\n",
    "        if best_pval < threshold_in:\n",
    "            best_feature = new_pval.argmin()\n",
    "            included.append(best_feature)\n",
    "            changed=True\n",
    "            if verbose:\n",
    "                print('Add  {:30} with p-value {:.6}'.format(best_feature, best_pval))\n",
    "\n",
    "        # backward step\n",
    "        model = sm.OLS(y, sm.add_constant(pd.DataFrame(X[included]))).fit()\n",
    "        # use all coefs except intercept\n",
    "        pvalues = model.pvalues.iloc[1:]\n",
    "        worst_pval = pvalues.max() # null if pvalues is empty\n",
    "        if worst_pval > threshold_out:\n",
    "            changed=True\n",
    "            worst_feature = pvalues.argmax()\n",
    "            included.remove(worst_feature)\n",
    "            if verbose:\n",
    "                print('Drop {:30} with p-value {:.6}'.format(worst_feature, worst_pval))\n",
    "        if not changed:\n",
    "            break\n",
    "    return included"
   ]
  },
  {
   "cell_type": "code",
   "execution_count": 206,
   "metadata": {},
   "outputs": [
    {
     "name": "stderr",
     "output_type": "stream",
     "text": [
      "C:\\Users\\Njeimi Amal\\Anaconda3\\lib\\site-packages\\statsmodels\\base\\model.py:1100: RuntimeWarning: invalid value encountered in true_divide\n",
      "  return self.params / self.bse\n",
      "C:\\Users\\Njeimi Amal\\Anaconda3\\lib\\site-packages\\scipy\\stats\\_distn_infrastructure.py:879: RuntimeWarning: invalid value encountered in greater\n",
      "  return (self.a < x) & (x < self.b)\n",
      "C:\\Users\\Njeimi Amal\\Anaconda3\\lib\\site-packages\\scipy\\stats\\_distn_infrastructure.py:879: RuntimeWarning: invalid value encountered in less\n",
      "  return (self.a < x) & (x < self.b)\n",
      "C:\\Users\\Njeimi Amal\\Anaconda3\\lib\\site-packages\\scipy\\stats\\_distn_infrastructure.py:1821: RuntimeWarning: invalid value encountered in less_equal\n",
      "  cond2 = cond0 & (x <= self.a)\n",
      "C:\\Users\\Njeimi Amal\\Anaconda3\\lib\\site-packages\\ipykernel_launcher.py:18: FutureWarning: 'argmin' is deprecated, use 'idxmin' instead. The behavior of 'argmin'\n",
      "will be corrected to return the positional minimum in the future.\n",
      "Use 'series.values.argmin' to get the position of the minimum now.\n"
     ]
    },
    {
     "name": "stdout",
     "output_type": "stream",
     "text": [
      "Add  obs                            with p-value 0.0\n",
      "Add  an                             with p-value 0.0\n",
      "Add  catv                           with p-value 0.0\n",
      "Add  catu                           with p-value 0.0\n",
      "Add  sexe                           with p-value 1.3472e-182\n",
      "Add  col                            with p-value 5.29512e-161\n",
      "Add  age                            with p-value 5.63856e-150\n",
      "Add  manv                           with p-value 4.89755e-148\n",
      "Add  obsm                           with p-value 6.62087e-86\n",
      "Add  agg                            with p-value 1.24024e-73\n",
      "Add  secu                           with p-value 3.80525e-33\n",
      "Add  situ                           with p-value 4.07753e-28\n",
      "Add  hrmn                           with p-value 9.03766e-22\n",
      "Add  lum                            with p-value 2.74298e-23\n",
      "Add  plan                           with p-value 1.22628e-13\n",
      "Add  dep                            with p-value 8.88005e-10\n",
      "Add  mois                           with p-value 1.58218e-08\n",
      "Add  surf                           with p-value 1.2383e-08\n",
      "Add  place                          with p-value 5.92251e-05\n",
      "Add  nbv                            with p-value 0.00422366\n",
      "Add  larrout                        with p-value 0.00871278\n",
      "resulting features:\n",
      "['obs', 'an', 'catv', 'catu', 'sexe', 'col', 'age', 'manv', 'obsm', 'agg', 'secu', 'situ', 'hrmn', 'lum', 'plan', 'dep', 'mois', 'surf', 'place', 'nbv', 'larrout']\n"
     ]
    }
   ],
   "source": [
    "result = stepwise_selection(x1, y1)\n",
    "print('resulting features:')\n",
    "print(result)"
   ]
  },
  {
   "cell_type": "code",
   "execution_count": null,
   "metadata": {},
   "outputs": [],
   "source": [
    "#On va garder seulement 'sexe', 'col', 'age', 'manv', 'obsm', 'agg', 'secu', 'hrmn', 'lum', 'plan', 'dep', 'mois', 'surf', 'place', 'senc', 'infra', 'situ'"
   ]
  },
  {
   "cell_type": "code",
   "execution_count": 207,
   "metadata": {},
   "outputs": [],
   "source": [
    "X_train2,X_test2,y_train2,y_test2=train_test_split(x1[['sexe', 'col', 'age', 'manv', 'obsm', 'agg', 'secu', 'situ', 'hrmn', 'lum', 'plan', 'dep', 'mois', 'surf', 'place', 'nbv', 'larrout']],y1,test_size=0.25,random_state=0)"
   ]
  },
  {
   "cell_type": "code",
   "execution_count": 208,
   "metadata": {},
   "outputs": [
    {
     "data": {
      "text/plain": [
       "LogisticRegression(C=1.0, class_weight=None, dual=False, fit_intercept=True,\n",
       "          intercept_scaling=1, max_iter=100, multi_class='ovr', n_jobs=1,\n",
       "          penalty='l2', random_state=None, solver='liblinear', tol=0.0001,\n",
       "          verbose=0, warm_start=False)"
      ]
     },
     "execution_count": 208,
     "metadata": {},
     "output_type": "execute_result"
    }
   ],
   "source": [
    "logreg2 = LogisticRegression()\n",
    "logreg2.fit(X_train2,y_train2)"
   ]
  },
  {
   "cell_type": "code",
   "execution_count": 200,
   "metadata": {},
   "outputs": [],
   "source": [
    "y_pred2=logreg2.predict(X_test2)"
   ]
  },
  {
   "cell_type": "code",
   "execution_count": 218,
   "metadata": {},
   "outputs": [
    {
     "data": {
      "text/plain": [
       "0.5012764832124658"
      ]
     },
     "execution_count": 218,
     "metadata": {},
     "output_type": "execute_result"
    }
   ],
   "source": [
    "logreg2.score(x1[['sexe', 'col', 'age', 'manv', 'obsm', 'agg', 'secu', 'situ', 'hrmn', 'lum', 'plan', 'dep', 'mois', 'surf', 'place', 'nbv', 'larrout']],y1)"
   ]
  },
  {
   "cell_type": "code",
   "execution_count": 202,
   "metadata": {},
   "outputs": [
    {
     "name": "stdout",
     "output_type": "stream",
     "text": [
      "Intercept: \n",
      " [-0.00107757 -0.00508964  0.00117307 -0.00550273]\n",
      "Coefficients: \n",
      " [[-1.51207406e-01 -1.83187328e-02 -7.21567142e-02 -1.07757251e-03\n",
      "  -4.19760528e-01  1.57260156e-01  1.13563947e-01  2.13487765e-02\n",
      "   1.26978000e-01  4.94762699e-01  3.92326761e-01 -2.47347702e-01\n",
      "   1.31632498e-04 -2.10895531e-01 -8.70469449e-02  3.33656623e-03\n",
      "   1.10279472e-02 -5.48699123e-02 -3.17434027e-01  4.68657551e-02\n",
      "   4.05923564e-05]\n",
      " [ 3.91866428e-02 -8.65238615e-02  2.18257953e-02 -5.08963891e-03\n",
      "  -6.04671428e-01 -5.46523710e-02  2.32725478e-01  6.74971386e-03\n",
      "  -1.55565687e-01 -1.55267654e+00 -7.80503423e-01  3.93547629e-01\n",
      "  -1.95338527e-04  3.96369682e-01  1.29311263e-01 -3.99984823e-03\n",
      "   4.17241714e-03  9.65913670e-03 -1.94882061e-02 -1.86259024e-01\n",
      "   8.38508600e-04]\n",
      " [ 7.73112441e-02  1.99421436e-02  3.88881546e-02  1.17306727e-03\n",
      "  -8.23167106e-02 -1.08343988e-01 -1.11951407e-02 -9.00656878e-03\n",
      "  -1.25589147e-01 -7.84988593e-01 -3.16282402e-01  2.86963731e-01\n",
      "  -6.97783428e-06  1.10165822e-01  4.44483075e-02 -7.34435686e-03\n",
      "   5.37816228e-03  2.80718526e-02  7.67036451e-03 -2.10466815e-01\n",
      "   4.12376021e-04]\n",
      " [ 3.63106662e-02 -9.35464018e-02  2.84168746e-02 -5.50272952e-03\n",
      "   5.13397939e-01 -9.50488719e-02 -1.49565558e-01 -1.76003479e-02\n",
      "  -4.87978033e-02  2.12231029e-01  6.95669102e-03 -8.80199103e-02\n",
      "  -1.17319666e-04  1.08668008e-01  2.62519834e-02  2.38991607e-03\n",
      "  -1.37119745e-02  2.86383694e-02  4.45573047e-03  1.13057534e-01\n",
      "  -4.43130059e-04]]\n"
     ]
    }
   ],
   "source": [
    "print('Intercept: \\n',logreg2.intercept_)\n",
    "print('Coefficients: \\n',logreg2.coef_)"
   ]
  },
  {
   "cell_type": "code",
   "execution_count": 209,
   "metadata": {},
   "outputs": [
    {
     "name": "stdout",
     "output_type": "stream",
     "text": [
      "             precision    recall  f1-score   support\n",
      "\n",
      "          1       0.60      0.90      0.72     11761\n",
      "          2       0.00      0.00      0.00       625\n",
      "          3       0.49      0.24      0.32      4624\n",
      "          4       0.52      0.33      0.40      7570\n",
      "\n",
      "avg / total       0.54      0.58      0.53     24580\n",
      "\n"
     ]
    },
    {
     "name": "stderr",
     "output_type": "stream",
     "text": [
      "C:\\Users\\Njeimi Amal\\Anaconda3\\lib\\site-packages\\sklearn\\metrics\\classification.py:1135: UndefinedMetricWarning: Precision and F-score are ill-defined and being set to 0.0 in labels with no predicted samples.\n",
      "  'precision', 'predicted', average, warn_for)\n"
     ]
    }
   ],
   "source": [
    "from sklearn.metrics import classification_report\n",
    "print(classification_report(y_test2,y_pred2))"
   ]
  },
  {
   "cell_type": "code",
   "execution_count": 213,
   "metadata": {},
   "outputs": [],
   "source": [
    "cnf_matrix2 = metrics.confusion_matrix(y_test2, y_pred2)"
   ]
  },
  {
   "cell_type": "code",
   "execution_count": 214,
   "metadata": {},
   "outputs": [
    {
     "data": {
      "text/plain": [
       "Text(0.5,257.44,'Predicted label')"
      ]
     },
     "execution_count": 214,
     "metadata": {},
     "output_type": "execute_result"
    },
    {
     "data": {
      "image/png": "[encoded data removed]",
      "text/plain": [
       "<Figure size 432x288 with 2 Axes>"
      ]
     },
     "metadata": {},
     "output_type": "display_data"
    }
   ],
   "source": [
    "class_names2=[0,1] # name  of classes\n",
    "fig, ax = plt.subplots()\n",
    "tick_marks = np.arange(len(class_names2))\n",
    "plt.xticks(tick_marks, class_names2)\n",
    "plt.yticks(tick_marks, class_names2)\n",
    "# create heatmap\n",
    "sns.heatmap(pd.DataFrame(cnf_matrix2), annot=True, cmap=\"YlGnBu\" ,fmt='g')\n",
    "ax.xaxis.set_label_position(\"top\")\n",
    "plt.tight_layout()\n",
    "plt.title('Confusion matrix', y=1.1)\n",
    "plt.ylabel('Actual label')\n",
    "plt.xlabel('Predicted label')"
   ]
  },
  {
   "cell_type": "markdown",
   "metadata": {},
   "source": [
    "# Segmentation"
   ]
  },
  {
   "cell_type": "markdown",
   "metadata": {},
   "source": [
    "déterminer le nombre optimal de clusters pour k-means "
   ]
  },
  {
   "cell_type": "code",
   "execution_count": 24,
   "metadata": {},
   "outputs": [],
   "source": [
    "import pandas as pd\n",
    "from sklearn.preprocessing import MinMaxScaler\n",
    "from sklearn.cluster import KMeans\n",
    "import matplotlib.pyplot as plt"
   ]
  },
  {
   "cell_type": "code",
   "execution_count": 43,
   "metadata": {},
   "outputs": [],
   "source": [
    "df3=pd.DataFrame(df2)"
   ]
  },
  {
   "cell_type": "code",
   "execution_count": 61,
   "metadata": {},
   "outputs": [],
   "source": [
    "#on va supprimer l'adresse et la voie puisque on a déja la lat et long des lieux\n",
    "df3.drop([\"adr\",\"voie\"],axis=1,inplace=True)"
   ]
  },
  {
   "cell_type": "code",
   "execution_count": 51,
   "metadata": {},
   "outputs": [
    {
     "data": {
      "text/html": [
       "<div>\n",
       "<style scoped>\n",
       "    .dataframe tbody tr th:only-of-type {\n",
       "        vertical-align: middle;\n",
       "    }\n",
       "\n",
       "    .dataframe tbody tr th {\n",
       "        vertical-align: top;\n",
       "    }\n",
       "\n",
       "    .dataframe thead th {\n",
       "        text-align: right;\n",
       "    }\n",
       "</style>\n",
       "<table border=\"1\" class=\"dataframe\">\n",
       "  <thead>\n",
       "    <tr style=\"text-align: right;\">\n",
       "      <th></th>\n",
       "      <th>Num_Acc</th>\n",
       "      <th>senc</th>\n",
       "      <th>catv</th>\n",
       "      <th>occutc</th>\n",
       "      <th>obs</th>\n",
       "      <th>obsm</th>\n",
       "      <th>choc</th>\n",
       "      <th>manv</th>\n",
       "      <th>an</th>\n",
       "      <th>mois</th>\n",
       "      <th>...</th>\n",
       "      <th>place</th>\n",
       "      <th>catu</th>\n",
       "      <th>grav</th>\n",
       "      <th>sexe</th>\n",
       "      <th>trajet</th>\n",
       "      <th>secu</th>\n",
       "      <th>locp</th>\n",
       "      <th>actp</th>\n",
       "      <th>etatp</th>\n",
       "      <th>age</th>\n",
       "    </tr>\n",
       "  </thead>\n",
       "  <tbody>\n",
       "    <tr>\n",
       "      <th>0</th>\n",
       "      <td>201700000001</td>\n",
       "      <td>0.0</td>\n",
       "      <td>7</td>\n",
       "      <td>0</td>\n",
       "      <td>0.0</td>\n",
       "      <td>2.0</td>\n",
       "      <td>3.0</td>\n",
       "      <td>9.0</td>\n",
       "      <td>17</td>\n",
       "      <td>1</td>\n",
       "      <td>...</td>\n",
       "      <td>1.0</td>\n",
       "      <td>1</td>\n",
       "      <td>3</td>\n",
       "      <td>1</td>\n",
       "      <td>9.0</td>\n",
       "      <td>0.0</td>\n",
       "      <td>0.0</td>\n",
       "      <td>0.0</td>\n",
       "      <td>0.0</td>\n",
       "      <td>3.0</td>\n",
       "    </tr>\n",
       "    <tr>\n",
       "      <th>2</th>\n",
       "      <td>201700000001</td>\n",
       "      <td>0.0</td>\n",
       "      <td>10</td>\n",
       "      <td>0</td>\n",
       "      <td>0.0</td>\n",
       "      <td>2.0</td>\n",
       "      <td>3.0</td>\n",
       "      <td>13.0</td>\n",
       "      <td>17</td>\n",
       "      <td>1</td>\n",
       "      <td>...</td>\n",
       "      <td>1.0</td>\n",
       "      <td>1</td>\n",
       "      <td>3</td>\n",
       "      <td>1</td>\n",
       "      <td>1.0</td>\n",
       "      <td>0.0</td>\n",
       "      <td>0.0</td>\n",
       "      <td>0.0</td>\n",
       "      <td>0.0</td>\n",
       "      <td>4.0</td>\n",
       "    </tr>\n",
       "    <tr>\n",
       "      <th>3</th>\n",
       "      <td>201700000002</td>\n",
       "      <td>0.0</td>\n",
       "      <td>7</td>\n",
       "      <td>0</td>\n",
       "      <td>0.0</td>\n",
       "      <td>0.0</td>\n",
       "      <td>1.0</td>\n",
       "      <td>16.0</td>\n",
       "      <td>17</td>\n",
       "      <td>2</td>\n",
       "      <td>...</td>\n",
       "      <td>1.0</td>\n",
       "      <td>1</td>\n",
       "      <td>1</td>\n",
       "      <td>1</td>\n",
       "      <td>0.0</td>\n",
       "      <td>1.0</td>\n",
       "      <td>0.0</td>\n",
       "      <td>0.0</td>\n",
       "      <td>0.0</td>\n",
       "      <td>4.0</td>\n",
       "    </tr>\n",
       "    <tr>\n",
       "      <th>4</th>\n",
       "      <td>201700000002</td>\n",
       "      <td>0.0</td>\n",
       "      <td>1</td>\n",
       "      <td>0</td>\n",
       "      <td>0.0</td>\n",
       "      <td>0.0</td>\n",
       "      <td>7.0</td>\n",
       "      <td>1.0</td>\n",
       "      <td>17</td>\n",
       "      <td>2</td>\n",
       "      <td>...</td>\n",
       "      <td>1.0</td>\n",
       "      <td>1</td>\n",
       "      <td>3</td>\n",
       "      <td>1</td>\n",
       "      <td>5.0</td>\n",
       "      <td>0.0</td>\n",
       "      <td>0.0</td>\n",
       "      <td>0.0</td>\n",
       "      <td>0.0</td>\n",
       "      <td>4.0</td>\n",
       "    </tr>\n",
       "    <tr>\n",
       "      <th>5</th>\n",
       "      <td>201700000003</td>\n",
       "      <td>0.0</td>\n",
       "      <td>10</td>\n",
       "      <td>0</td>\n",
       "      <td>0.0</td>\n",
       "      <td>2.0</td>\n",
       "      <td>1.0</td>\n",
       "      <td>1.0</td>\n",
       "      <td>17</td>\n",
       "      <td>3</td>\n",
       "      <td>...</td>\n",
       "      <td>1.0</td>\n",
       "      <td>1</td>\n",
       "      <td>1</td>\n",
       "      <td>1</td>\n",
       "      <td>1.0</td>\n",
       "      <td>1.0</td>\n",
       "      <td>0.0</td>\n",
       "      <td>0.0</td>\n",
       "      <td>0.0</td>\n",
       "      <td>3.0</td>\n",
       "    </tr>\n",
       "  </tbody>\n",
       "</table>\n",
       "<p>5 rows × 44 columns</p>\n",
       "</div>"
      ],
      "text/plain": [
       "        Num_Acc  senc  catv  occutc  obs  obsm  choc  manv  an  mois ...   \\\n",
       "0  201700000001   0.0     7       0  0.0   2.0   3.0   9.0  17     1 ...    \n",
       "2  201700000001   0.0    10       0  0.0   2.0   3.0  13.0  17     1 ...    \n",
       "3  201700000002   0.0     7       0  0.0   0.0   1.0  16.0  17     2 ...    \n",
       "4  201700000002   0.0     1       0  0.0   0.0   7.0   1.0  17     2 ...    \n",
       "5  201700000003   0.0    10       0  0.0   2.0   1.0   1.0  17     3 ...    \n",
       "\n",
       "   place  catu  grav  sexe  trajet  secu  locp  actp etatp  age  \n",
       "0    1.0     1     3     1     9.0   0.0   0.0   0.0   0.0  3.0  \n",
       "2    1.0     1     3     1     1.0   0.0   0.0   0.0   0.0  4.0  \n",
       "3    1.0     1     1     1     0.0   1.0   0.0   0.0   0.0  4.0  \n",
       "4    1.0     1     3     1     5.0   0.0   0.0   0.0   0.0  4.0  \n",
       "5    1.0     1     1     1     1.0   1.0   0.0   0.0   0.0  3.0  \n",
       "\n",
       "[5 rows x 44 columns]"
      ]
     },
     "execution_count": 51,
     "metadata": {},
     "output_type": "execute_result"
    }
   ],
   "source": [
    "df3.head()"
   ]
  },
  {
   "cell_type": "code",
   "execution_count": 55,
   "metadata": {},
   "outputs": [],
   "source": [
    "df3[\"gps\"]=df3[\"gps\"].replace([1,2,3,4,5],[\"M\",\"A\",\"G\",\"R\",\"Y\"], inplace=True)"
   ]
  },
  {
   "cell_type": "code",
   "execution_count": 56,
   "metadata": {},
   "outputs": [],
   "source": [
    "df3[\"gps\"] = df3.gps.astype(float)"
   ]
  },
  {
   "cell_type": "code",
   "execution_count": 37,
   "metadata": {},
   "outputs": [
    {
     "data": {
      "text/html": [
       "<div>\n",
       "<style scoped>\n",
       "    .dataframe tbody tr th:only-of-type {\n",
       "        vertical-align: middle;\n",
       "    }\n",
       "\n",
       "    .dataframe tbody tr th {\n",
       "        vertical-align: top;\n",
       "    }\n",
       "\n",
       "    .dataframe thead th {\n",
       "        text-align: right;\n",
       "    }\n",
       "</style>\n",
       "<table border=\"1\" class=\"dataframe\">\n",
       "  <thead>\n",
       "    <tr style=\"text-align: right;\">\n",
       "      <th></th>\n",
       "      <th>Num_Acc</th>\n",
       "      <th>senc</th>\n",
       "      <th>catv</th>\n",
       "      <th>occutc</th>\n",
       "      <th>obs</th>\n",
       "      <th>obsm</th>\n",
       "      <th>choc</th>\n",
       "      <th>manv</th>\n",
       "      <th>an</th>\n",
       "      <th>mois</th>\n",
       "      <th>...</th>\n",
       "      <th>place</th>\n",
       "      <th>catu</th>\n",
       "      <th>grav</th>\n",
       "      <th>sexe</th>\n",
       "      <th>trajet</th>\n",
       "      <th>secu</th>\n",
       "      <th>locp</th>\n",
       "      <th>actp</th>\n",
       "      <th>etatp</th>\n",
       "      <th>age</th>\n",
       "    </tr>\n",
       "  </thead>\n",
       "  <tbody>\n",
       "    <tr>\n",
       "      <th>0</th>\n",
       "      <td>2.017000e+11</td>\n",
       "      <td>0.0</td>\n",
       "      <td>7.0</td>\n",
       "      <td>0.0</td>\n",
       "      <td>0.0</td>\n",
       "      <td>2.0</td>\n",
       "      <td>3.0</td>\n",
       "      <td>9.0</td>\n",
       "      <td>17.0</td>\n",
       "      <td>1.0</td>\n",
       "      <td>...</td>\n",
       "      <td>1.0</td>\n",
       "      <td>1.0</td>\n",
       "      <td>3.0</td>\n",
       "      <td>1.0</td>\n",
       "      <td>9.0</td>\n",
       "      <td>0.0</td>\n",
       "      <td>0.0</td>\n",
       "      <td>0.0</td>\n",
       "      <td>0.0</td>\n",
       "      <td>3.0</td>\n",
       "    </tr>\n",
       "    <tr>\n",
       "      <th>2</th>\n",
       "      <td>2.017000e+11</td>\n",
       "      <td>0.0</td>\n",
       "      <td>10.0</td>\n",
       "      <td>0.0</td>\n",
       "      <td>0.0</td>\n",
       "      <td>2.0</td>\n",
       "      <td>3.0</td>\n",
       "      <td>13.0</td>\n",
       "      <td>17.0</td>\n",
       "      <td>1.0</td>\n",
       "      <td>...</td>\n",
       "      <td>1.0</td>\n",
       "      <td>1.0</td>\n",
       "      <td>3.0</td>\n",
       "      <td>1.0</td>\n",
       "      <td>1.0</td>\n",
       "      <td>0.0</td>\n",
       "      <td>0.0</td>\n",
       "      <td>0.0</td>\n",
       "      <td>0.0</td>\n",
       "      <td>4.0</td>\n",
       "    </tr>\n",
       "    <tr>\n",
       "      <th>3</th>\n",
       "      <td>2.017000e+11</td>\n",
       "      <td>0.0</td>\n",
       "      <td>7.0</td>\n",
       "      <td>0.0</td>\n",
       "      <td>0.0</td>\n",
       "      <td>0.0</td>\n",
       "      <td>1.0</td>\n",
       "      <td>16.0</td>\n",
       "      <td>17.0</td>\n",
       "      <td>2.0</td>\n",
       "      <td>...</td>\n",
       "      <td>1.0</td>\n",
       "      <td>1.0</td>\n",
       "      <td>1.0</td>\n",
       "      <td>1.0</td>\n",
       "      <td>0.0</td>\n",
       "      <td>1.0</td>\n",
       "      <td>0.0</td>\n",
       "      <td>0.0</td>\n",
       "      <td>0.0</td>\n",
       "      <td>4.0</td>\n",
       "    </tr>\n",
       "    <tr>\n",
       "      <th>4</th>\n",
       "      <td>2.017000e+11</td>\n",
       "      <td>0.0</td>\n",
       "      <td>1.0</td>\n",
       "      <td>0.0</td>\n",
       "      <td>0.0</td>\n",
       "      <td>0.0</td>\n",
       "      <td>7.0</td>\n",
       "      <td>1.0</td>\n",
       "      <td>17.0</td>\n",
       "      <td>2.0</td>\n",
       "      <td>...</td>\n",
       "      <td>1.0</td>\n",
       "      <td>1.0</td>\n",
       "      <td>3.0</td>\n",
       "      <td>1.0</td>\n",
       "      <td>5.0</td>\n",
       "      <td>0.0</td>\n",
       "      <td>0.0</td>\n",
       "      <td>0.0</td>\n",
       "      <td>0.0</td>\n",
       "      <td>4.0</td>\n",
       "    </tr>\n",
       "    <tr>\n",
       "      <th>5</th>\n",
       "      <td>2.017000e+11</td>\n",
       "      <td>0.0</td>\n",
       "      <td>10.0</td>\n",
       "      <td>0.0</td>\n",
       "      <td>0.0</td>\n",
       "      <td>2.0</td>\n",
       "      <td>1.0</td>\n",
       "      <td>1.0</td>\n",
       "      <td>17.0</td>\n",
       "      <td>3.0</td>\n",
       "      <td>...</td>\n",
       "      <td>1.0</td>\n",
       "      <td>1.0</td>\n",
       "      <td>1.0</td>\n",
       "      <td>1.0</td>\n",
       "      <td>1.0</td>\n",
       "      <td>1.0</td>\n",
       "      <td>0.0</td>\n",
       "      <td>0.0</td>\n",
       "      <td>0.0</td>\n",
       "      <td>3.0</td>\n",
       "    </tr>\n",
       "  </tbody>\n",
       "</table>\n",
       "<p>5 rows × 44 columns</p>\n",
       "</div>"
      ],
      "text/plain": [
       "        Num_Acc  senc  catv  occutc  obs  obsm  choc  manv    an  mois ...   \\\n",
       "0  2.017000e+11   0.0   7.0     0.0  0.0   2.0   3.0   9.0  17.0   1.0 ...    \n",
       "2  2.017000e+11   0.0  10.0     0.0  0.0   2.0   3.0  13.0  17.0   1.0 ...    \n",
       "3  2.017000e+11   0.0   7.0     0.0  0.0   0.0   1.0  16.0  17.0   2.0 ...    \n",
       "4  2.017000e+11   0.0   1.0     0.0  0.0   0.0   7.0   1.0  17.0   2.0 ...    \n",
       "5  2.017000e+11   0.0  10.0     0.0  0.0   2.0   1.0   1.0  17.0   3.0 ...    \n",
       "\n",
       "   place  catu  grav  sexe  trajet  secu  locp  actp  etatp  age  \n",
       "0    1.0   1.0   3.0   1.0     9.0   0.0   0.0   0.0    0.0  3.0  \n",
       "2    1.0   1.0   3.0   1.0     1.0   0.0   0.0   0.0    0.0  4.0  \n",
       "3    1.0   1.0   1.0   1.0     0.0   1.0   0.0   0.0    0.0  4.0  \n",
       "4    1.0   1.0   3.0   1.0     5.0   0.0   0.0   0.0    0.0  4.0  \n",
       "5    1.0   1.0   1.0   1.0     1.0   1.0   0.0   0.0    0.0  3.0  \n",
       "\n",
       "[5 rows x 44 columns]"
      ]
     },
     "execution_count": 37,
     "metadata": {},
     "output_type": "execute_result"
    }
   ],
   "source": [
    "round(df3,2)\n",
    "df3.head()"
   ]
  },
  {
   "cell_type": "code",
   "execution_count": 57,
   "metadata": {},
   "outputs": [],
   "source": [
    "df3=df3.astype('float')"
   ]
  },
  {
   "cell_type": "code",
   "execution_count": 78,
   "metadata": {},
   "outputs": [],
   "source": [
    "Sum_of_squared_distances = []\n",
    "K = range(1,15)\n",
    "for k in K:\n",
    "    km = KMeans(n_clusters=k)\n",
    "    km = km.fit(df3.iloc[:,1:df3.shape[1]])\n",
    "    Sum_of_squared_distances.append(km.inertia_)"
   ]
  },
  {
   "cell_type": "code",
   "execution_count": 63,
   "metadata": {},
   "outputs": [
    {
     "data": {
      "image/png": "[encoded data removed]",
      "text/plain": [
       "<Figure size 432x288 with 1 Axes>"
      ]
     },
     "metadata": {},
     "output_type": "display_data"
    }
   ],
   "source": [
    "plt.plot(K, Sum_of_squared_distances, 'bx-')\n",
    "plt.xlabel('k')\n",
    "plt.ylabel('Sum_of_squared_distances')\n",
    "plt.title('Elbow Method For Optimal k')\n",
    "plt.show()"
   ]
  },
  {
   "cell_type": "markdown",
   "metadata": {},
   "source": [
    "Dans le graphique ci-dessus, le coude est à k = 4, ce qui indique que k optimal 4."
   ]
  },
  {
   "cell_type": "code",
   "execution_count": 92,
   "metadata": {},
   "outputs": [],
   "source": [
    "#Cluster K-means\n",
    "Mkmeans=KMeans(n_clusters=4)\n",
    "#adapter le modèle de données\n",
    "Mkmeans.fit(df3.iloc[:,1:df3.shape[1]])"
   ]
  },
  {
   "cell_type": "code",
   "execution_count": 82,
   "metadata": {},
   "outputs": [],
   "source": [
    "df3['cluster']=Mkmeans.fit_predict(df3.iloc[:,1:df3.shape[1]])"
   ]
  },
  {
   "cell_type": "code",
   "execution_count": 83,
   "metadata": {},
   "outputs": [
    {
     "data": {
      "text/html": [
       "<div>\n",
       "<style scoped>\n",
       "    .dataframe tbody tr th:only-of-type {\n",
       "        vertical-align: middle;\n",
       "    }\n",
       "\n",
       "    .dataframe tbody tr th {\n",
       "        vertical-align: top;\n",
       "    }\n",
       "\n",
       "    .dataframe thead th {\n",
       "        text-align: right;\n",
       "    }\n",
       "</style>\n",
       "<table border=\"1\" class=\"dataframe\">\n",
       "  <thead>\n",
       "    <tr style=\"text-align: right;\">\n",
       "      <th></th>\n",
       "      <th>Num_Acc</th>\n",
       "      <th>senc</th>\n",
       "      <th>catv</th>\n",
       "      <th>occutc</th>\n",
       "      <th>obs</th>\n",
       "      <th>obsm</th>\n",
       "      <th>choc</th>\n",
       "      <th>manv</th>\n",
       "      <th>an</th>\n",
       "      <th>mois</th>\n",
       "      <th>...</th>\n",
       "      <th>catu</th>\n",
       "      <th>grav</th>\n",
       "      <th>sexe</th>\n",
       "      <th>trajet</th>\n",
       "      <th>secu</th>\n",
       "      <th>locp</th>\n",
       "      <th>actp</th>\n",
       "      <th>etatp</th>\n",
       "      <th>age</th>\n",
       "      <th>cluster</th>\n",
       "    </tr>\n",
       "  </thead>\n",
       "  <tbody>\n",
       "    <tr>\n",
       "      <th>55384</th>\n",
       "      <td>2.017000e+11</td>\n",
       "      <td>0.0</td>\n",
       "      <td>7.0</td>\n",
       "      <td>0.0</td>\n",
       "      <td>0.0</td>\n",
       "      <td>2.0</td>\n",
       "      <td>1.0</td>\n",
       "      <td>16.0</td>\n",
       "      <td>17.0</td>\n",
       "      <td>3.0</td>\n",
       "      <td>...</td>\n",
       "      <td>1.0</td>\n",
       "      <td>1.0</td>\n",
       "      <td>1.0</td>\n",
       "      <td>0.0</td>\n",
       "      <td>1.0</td>\n",
       "      <td>0.0</td>\n",
       "      <td>0.0</td>\n",
       "      <td>0.0</td>\n",
       "      <td>2.0</td>\n",
       "      <td>3</td>\n",
       "    </tr>\n",
       "    <tr>\n",
       "      <th>55383</th>\n",
       "      <td>2.017000e+11</td>\n",
       "      <td>0.0</td>\n",
       "      <td>7.0</td>\n",
       "      <td>0.0</td>\n",
       "      <td>0.0</td>\n",
       "      <td>2.0</td>\n",
       "      <td>6.0</td>\n",
       "      <td>1.0</td>\n",
       "      <td>17.0</td>\n",
       "      <td>3.0</td>\n",
       "      <td>...</td>\n",
       "      <td>1.0</td>\n",
       "      <td>1.0</td>\n",
       "      <td>2.0</td>\n",
       "      <td>9.0</td>\n",
       "      <td>1.0</td>\n",
       "      <td>0.0</td>\n",
       "      <td>0.0</td>\n",
       "      <td>0.0</td>\n",
       "      <td>3.0</td>\n",
       "      <td>3</td>\n",
       "    </tr>\n",
       "    <tr>\n",
       "      <th>55382</th>\n",
       "      <td>2.017000e+11</td>\n",
       "      <td>1.0</td>\n",
       "      <td>2.0</td>\n",
       "      <td>0.0</td>\n",
       "      <td>0.0</td>\n",
       "      <td>2.0</td>\n",
       "      <td>2.0</td>\n",
       "      <td>16.0</td>\n",
       "      <td>17.0</td>\n",
       "      <td>3.0</td>\n",
       "      <td>...</td>\n",
       "      <td>1.0</td>\n",
       "      <td>4.0</td>\n",
       "      <td>1.0</td>\n",
       "      <td>9.0</td>\n",
       "      <td>1.0</td>\n",
       "      <td>0.0</td>\n",
       "      <td>0.0</td>\n",
       "      <td>0.0</td>\n",
       "      <td>4.0</td>\n",
       "      <td>3</td>\n",
       "    </tr>\n",
       "    <tr>\n",
       "      <th>55479</th>\n",
       "      <td>2.017000e+11</td>\n",
       "      <td>0.0</td>\n",
       "      <td>10.0</td>\n",
       "      <td>0.0</td>\n",
       "      <td>0.0</td>\n",
       "      <td>1.0</td>\n",
       "      <td>3.0</td>\n",
       "      <td>1.0</td>\n",
       "      <td>17.0</td>\n",
       "      <td>3.0</td>\n",
       "      <td>...</td>\n",
       "      <td>1.0</td>\n",
       "      <td>1.0</td>\n",
       "      <td>2.0</td>\n",
       "      <td>1.0</td>\n",
       "      <td>1.0</td>\n",
       "      <td>0.0</td>\n",
       "      <td>0.0</td>\n",
       "      <td>0.0</td>\n",
       "      <td>3.0</td>\n",
       "      <td>3</td>\n",
       "    </tr>\n",
       "    <tr>\n",
       "      <th>69328</th>\n",
       "      <td>2.017000e+11</td>\n",
       "      <td>2.0</td>\n",
       "      <td>7.0</td>\n",
       "      <td>0.0</td>\n",
       "      <td>0.0</td>\n",
       "      <td>2.0</td>\n",
       "      <td>8.0</td>\n",
       "      <td>9.0</td>\n",
       "      <td>17.0</td>\n",
       "      <td>12.0</td>\n",
       "      <td>...</td>\n",
       "      <td>1.0</td>\n",
       "      <td>1.0</td>\n",
       "      <td>2.0</td>\n",
       "      <td>5.0</td>\n",
       "      <td>1.0</td>\n",
       "      <td>0.0</td>\n",
       "      <td>0.0</td>\n",
       "      <td>0.0</td>\n",
       "      <td>3.0</td>\n",
       "      <td>3</td>\n",
       "    </tr>\n",
       "  </tbody>\n",
       "</table>\n",
       "<p>5 rows × 44 columns</p>\n",
       "</div>"
      ],
      "text/plain": [
       "            Num_Acc  senc  catv  occutc  obs  obsm  choc  manv    an  mois  \\\n",
       "55384  2.017000e+11   0.0   7.0     0.0  0.0   2.0   1.0  16.0  17.0   3.0   \n",
       "55383  2.017000e+11   0.0   7.0     0.0  0.0   2.0   6.0   1.0  17.0   3.0   \n",
       "55382  2.017000e+11   1.0   2.0     0.0  0.0   2.0   2.0  16.0  17.0   3.0   \n",
       "55479  2.017000e+11   0.0  10.0     0.0  0.0   1.0   3.0   1.0  17.0   3.0   \n",
       "69328  2.017000e+11   2.0   7.0     0.0  0.0   2.0   8.0   9.0  17.0  12.0   \n",
       "\n",
       "        ...     catu  grav  sexe  trajet  secu  locp  actp  etatp  age  \\\n",
       "55384   ...      1.0   1.0   1.0     0.0   1.0   0.0   0.0    0.0  2.0   \n",
       "55383   ...      1.0   1.0   2.0     9.0   1.0   0.0   0.0    0.0  3.0   \n",
       "55382   ...      1.0   4.0   1.0     9.0   1.0   0.0   0.0    0.0  4.0   \n",
       "55479   ...      1.0   1.0   2.0     1.0   1.0   0.0   0.0    0.0  3.0   \n",
       "69328   ...      1.0   1.0   2.0     5.0   1.0   0.0   0.0    0.0  3.0   \n",
       "\n",
       "       cluster  \n",
       "55384        3  \n",
       "55383        3  \n",
       "55382        3  \n",
       "55479        3  \n",
       "69328        3  \n",
       "\n",
       "[5 rows x 44 columns]"
      ]
     },
     "execution_count": 83,
     "metadata": {},
     "output_type": "execute_result"
    }
   ],
   "source": [
    "df3.sort_values(by=\"cluster\").tail()"
   ]
  },
  {
   "cell_type": "code",
   "execution_count": 104,
   "metadata": {},
   "outputs": [
    {
     "data": {
      "text/plain": [
       "<matplotlib.collections.PathCollection at 0x2c983a39588>"
      ]
     },
     "execution_count": 104,
     "metadata": {},
     "output_type": "execute_result"
    },
    {
     "data": {
      "image/png": "[encoded data removed]",
      "text/plain": [
       "<Figure size 432x288 with 1 Axes>"
      ]
     },
     "metadata": {},
     "output_type": "display_data"
    }
   ],
   "source": [
    "colormap=np.array(['Red','green','blue','red'])\n",
    "plt.scatter(df3.lat, df3.long, c=Mkmeans.labels_, s=40)"
   ]
  },
  {
   "cell_type": "code",
   "execution_count": null,
   "metadata": {},
   "outputs": [],
   "source": [
    "c1=df3[df3.cluster==0]\n",
    "c2=df3[df3.cluster==1]\n",
    "c3=df3[df3.cluster==2]\n",
    "c4=df3[df3.cluster==3]"
   ]
  },
  {
   "cell_type": "code",
   "execution_count": null,
   "metadata": {},
   "outputs": [],
   "source": [
    "#c1.sort_values(by=\"lat\",ascending=True)\n",
    "#c1.sort_values(by=\"long\",ascending=True)\n",
    "#lat 4555195.0 - 5107423.0\n",
    "#long -54782.0 - \t699102.0"
   ]
  },
  {
   "cell_type": "code",
   "execution_count": null,
   "metadata": {},
   "outputs": [],
   "source": [
    "#c2.sort_values(by=\"lat\",ascending=True)\n",
    "#c2.sort_values(by=\"long\",ascending=True)\n",
    "#lat 434091.0 - 2138567.0\n",
    "#long 4505711.0 - 6179073.0"
   ]
  },
  {
   "cell_type": "code",
   "execution_count": null,
   "metadata": {},
   "outputs": [],
   "source": [
    "#c3.sort_values(by=\"lat\",ascending=True)\n",
    "#c3.sort_values(by=\"long\",ascending=True)\n",
    "#lat 4147009.0 - 4915682.0\n",
    "#long 179166.0 - 954584.0"
   ]
  },
  {
   "cell_type": "code",
   "execution_count": null,
   "metadata": {},
   "outputs": [],
   "source": [
    "#c4.sort_values(by=\"lat\",ascending=True)\n",
    "#c4.sort_values(by=\"long\",ascending=True)\n",
    "#lat 4275118.0 - 24970738.0\n",
    "#long -477098.0 - 231383.0"
   ]
  },
  {
   "cell_type": "markdown",
   "metadata": {},
   "source": [
    "Donc cette segmentation nous a permis de distinguer les zones géographiques suivant"
   ]
  },
  {
   "cell_type": "markdown",
   "metadata": {},
   "source": [
    "**Cluster 1 ** </br>  \n",
    "\n",
    "lattitude entre 4555195 et 5107423 </br>  \n",
    "\n",
    "longitude entre -54782 et 699102  \n"
   ]
  },
  {
   "cell_type": "markdown",
   "metadata": {},
   "source": [
    "**Cluster 2 ** </br>  \n",
    "\n",
    "lattitude entre 434091 et 2138567 </br>  \n",
    "\n",
    "longitude entre 4505711 et 6179073  \n"
   ]
  },
  {
   "cell_type": "markdown",
   "metadata": {},
   "source": [
    "**Cluster 3 ** </br>  \n",
    "\n",
    "lattitude entre 4147009 et 4915682 </br>  \n",
    "\n",
    "longitude entre 179166 et 954584  \n"
   ]
  },
  {
   "cell_type": "markdown",
   "metadata": {},
   "source": [
    "**Cluster 4 ** </br>  \n",
    "\n",
    "lattitude entre 4275118 et 24970738 </br>  \n",
    "\n",
    "longitude entre -477098 et 231383  \n"
   ]
  }
 ],
 "metadata": {
  "kernelspec": {
   "display_name": "Python 3",
   "language": "python",
   "name": "python3"
  },
  "language_info": {
   "codemirror_mode": {
    "name": "ipython",
    "version": 3
   },
   "file_extension": ".py",
   "mimetype": "text/x-python",
   "name": "python",
   "nbconvert_exporter": "python",
   "pygments_lexer": "ipython3",
   "version": "3.6.5"
  }
 },
 "nbformat": 4,
 "nbformat_minor": 2
}
